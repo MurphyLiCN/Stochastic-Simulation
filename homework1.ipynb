{
 "cells": [
  {
   "cell_type": "code",
   "execution_count": 2,
   "metadata": {
    "collapsed": true
   },
   "outputs": [],
   "source": [
    "import pandas as pd\n",
    "import numpy as np\n",
    "import matplotlib.pyplot as plt"
   ]
  },
  {
   "cell_type": "markdown",
   "source": [
    "## (a)"
   ],
   "metadata": {
    "collapsed": false
   }
  },
  {
   "cell_type": "markdown",
   "source": [
    "### pseudocode\n",
    "> \\# 初始化\n",
    "> station1 = 0\n",
    "> station2 = 0\n",
    "> start_customer = 0\n",
    "> finish_ customer = 0\n",
    "> \\# 生成第一个事件\n",
    "> next_arrival = exp(1/1.8)\n",
    "> next_station_1_1_finish = 2e10\n",
    "> next_station_1_2_finish = 2e10\n",
    "> next_station_2_finish = 2e10\n",
    "> \\# 循环直到服务完第4000个客户（1000热身+3000记录）\n",
    "> **WHILE** finish_custumer <= 4000:\n",
    ">> \\# 进入下一个事件\n",
    ">> clock = min(next_arrival,next_station_1_1_finish,next_station_1_2_finish,next_station_2_finish)\n",
    ">> \\# 更新下一个事件对状态对影响\n",
    ">> **if** clock == next_arrival:\n",
    ">>> station1 += 1\n",
    "    start_customer += 1\n",
    "    \\# 记录第i个客户进入系统的时间\n",
    "    customer_in[start_customer] = clock\n",
    ">>\n",
    ">> **if** clock == next_station_1_1_finish:\n",
    ">>> station1 -= 1\n",
    "    station2 += 1\n",
    ">>\n",
    ">> **if** clock == next_station_1_2_finish:\n",
    ">>> station1 -= 1\n",
    "    station2 += 1\n",
    ">>\n",
    ">> **if** clock == next_station_2_finish:\n",
    ">>> station2 -= 1\n",
    "    finish_customer += 1\n",
    "    \\# 记录第i个客户离开系统的时间\n",
    "    customer_out[finish_customer] = clock\n",
    ">>\n",
    ">> \\# 产生下一个事件（利用了指数分布的无记忆性）\n",
    ">> next_arrival = clock + exp(1/1.8)\n",
    ">>\n",
    ">> **if** station1 >= 2:\n",
    ">>> next_station1_1 = clock + exp(1)\n",
    "    next_station1_2 = clock + exp(1)\n",
    ">>\n",
    ">> **elif** station1 > 0:\n",
    ">>> next_station1_1 = clock + exp(1)\n",
    "    next_station1_2 = clock + 1e10\n",
    ">>\n",
    ">> **else**:\n",
    ">>> next_station1_1 = clock + 1e10\n",
    "    next_station1_2 = clock + 1e10\n",
    ">>\n",
    ">> **if** station2 > 0:\n",
    ">>> next_station2 = clock + exp(1/2)\n",
    ">>\n",
    ">>**else**:\n",
    ">>> next_station2 = clock + 1e10\n",
    ">\n",
    "> \\# 计算第i个客户在系统中停留的时间\n",
    "> sojourn_time = customer_out - customer_in"
   ],
   "metadata": {
    "collapsed": false
   }
  },
  {
   "cell_type": "code",
   "execution_count": 7,
   "outputs": [],
   "source": [
    "# 初始化\n",
    "customer_in = pd.Series([0])\n",
    "customer_out = pd.Series([0])\n",
    "station1 = 0\n",
    "station2 = 0\n",
    "start_customer = 0\n",
    "finish_customer = 0\n",
    "clock = 0\n",
    "\n",
    "# 生成第一个事件\n",
    "next_arrival = np.random.exponential(1/1.8)\n",
    "next_station1_1 = 1e10\n",
    "next_station1_2 = 1e10\n",
    "next_station2 = 1e10"
   ],
   "metadata": {
    "collapsed": false
   }
  },
  {
   "cell_type": "code",
   "execution_count": 8,
   "outputs": [],
   "source": [
    "# 循环直到第4000个客户离开\n",
    "while finish_customer < 4000:\n",
    "    # 新的时间为下一个事件\n",
    "    clock = min(next_station1_1,next_station1_2,next_station2,next_arrival)\n",
    "\n",
    "    # 判断哪个事件发生了，并做出相应反应\n",
    "    if next_arrival == clock:\n",
    "        station1 += 1\n",
    "        start_customer += 1\n",
    "        # 记录第i个顾客第进入时间\n",
    "        customer_in[start_customer] = clock\n",
    "    elif next_station1_1 == clock:\n",
    "        station1 -= 1\n",
    "        station2 += 1\n",
    "    elif next_station1_2 == clock:\n",
    "        station1 -= 1\n",
    "        station2 += 1\n",
    "    elif next_station2 == clock:\n",
    "        station2 -= 1\n",
    "        finish_customer += 1\n",
    "        # 记录第i个顾客的离开时间\n",
    "        customer_out[finish_customer] = clock\n",
    "\n",
    "\n",
    "    #更新事件（无记忆性）\n",
    "    next_arrival = clock + np.random.exponential(1/1.8)\n",
    "\n",
    "    if station1 >= 2:\n",
    "        next_station1_1 = clock + np.random.exponential(1)\n",
    "        next_station1_2 = clock + np.random.exponential(1)\n",
    "    elif station1 > 0:\n",
    "        next_station1_1 = clock + np.random.exponential(1)\n",
    "        next_station1_2 = clock + 1e10\n",
    "    else:\n",
    "        next_station1_1 = clock + 1e10\n",
    "        next_station1_2 = clock + 1e10\n",
    "\n",
    "    if station2 > 0:\n",
    "        next_station2 = clock + np.random.exponential(1/2)\n",
    "    else:\n",
    "        next_station2 = clock + 1e10\n"
   ],
   "metadata": {
    "collapsed": false
   }
  },
  {
   "cell_type": "markdown",
   "source": [
    "## (b)"
   ],
   "metadata": {
    "collapsed": false
   }
  },
  {
   "cell_type": "code",
   "execution_count": 9,
   "outputs": [
    {
     "data": {
      "text/plain": "(array([350., 517., 536., 448., 395., 441., 189.,  78.,  28.,  18.]),\n array([ 0.36969355,  2.94298787,  5.51628219,  8.08957651, 10.66287084,\n        13.23616516, 15.80945948, 18.3827538 , 20.95604813, 23.52934245,\n        26.10263677]),\n <BarContainer object of 10 artists>)"
     },
     "execution_count": 9,
     "metadata": {},
     "output_type": "execute_result"
    },
    {
     "data": {
      "text/plain": "<Figure size 640x480 with 1 Axes>",
      "image/png": "[encoded data removed]"
     },
     "metadata": {},
     "output_type": "display_data"
    }
   ],
   "source": [
    "sojourn_time = customer_out - customer_in\n",
    "warmed_sojourn_time_2 = sojourn_time[1000:4000]\n",
    "plt.hist(warmed_sojourn_time_2)"
   ],
   "metadata": {
    "collapsed": false
   }
  },
  {
   "cell_type": "code",
   "execution_count": 10,
   "outputs": [
    {
     "data": {
      "text/plain": "count    3000.000000\nmean        9.165147\nstd         5.149861\nmin         0.369694\n25%         4.977560\n50%         8.557206\n75%        13.262529\nmax        26.102637\ndtype: float64"
     },
     "execution_count": 10,
     "metadata": {},
     "output_type": "execute_result"
    }
   ],
   "source": [
    "warmed_sojourn_time_2.describe()"
   ],
   "metadata": {
    "collapsed": false
   }
  },
  {
   "cell_type": "markdown",
   "source": [
    "## (c)"
   ],
   "metadata": {
    "collapsed": false
   }
  },
  {
   "cell_type": "code",
   "execution_count": 11,
   "outputs": [],
   "source": [
    "def lambda_exp1_norm0515(Lambda=1.8):\n",
    "    # 初始化\n",
    "    customer_in = pd.Series([0])\n",
    "    customer_out = pd.Series([0])\n",
    "    station1 = 0\n",
    "    station2 = 0\n",
    "    start_customer = 0\n",
    "    finish_customer = 0\n",
    "    A_list = pd.Series([0])\n",
    "\n",
    "\n",
    "    # 生成第一个事件\n",
    "    next_arrival = np.random.exponential(1/Lambda)\n",
    "    next_station1_1 = 1e10\n",
    "    next_station1_2 = 1e10\n",
    "    next_station2 = 1e10\n",
    "\n",
    "    # 循环直到第4000个客户离开\n",
    "    while finish_customer < 4000:\n",
    "        # 新的时间为下一个事件\n",
    "        clock = min(next_station1_1,next_station1_2,next_station2,next_arrival)\n",
    "\n",
    "\n",
    "        # 判断station2的情况\n",
    "        new_station2_normal = False\n",
    "\n",
    "        # 判断哪个事件发生了，并做出相应反应\n",
    "        if next_arrival == clock:\n",
    "            station1 += 1\n",
    "            # 记录第i个顾客第进入时间\n",
    "            start_customer += 1\n",
    "            customer_in[start_customer] = clock\n",
    "\n",
    "        elif next_station1_1 == clock:\n",
    "            station1 -= 1\n",
    "            station2 += 1\n",
    "            # 判断station2的情况\n",
    "            if station2 == 1:\n",
    "                new_station2_normal = True\n",
    "\n",
    "        elif next_station1_2 == clock:\n",
    "            station1 -= 1\n",
    "            station2 += 1\n",
    "            # 判断station2的情况\n",
    "            if station2 == 1:\n",
    "                new_station2_normal = True\n",
    "\n",
    "        elif next_station2 == clock:\n",
    "            station2 -= 1\n",
    "            if station2 > 0:\n",
    "                new_station2_normal = True\n",
    "            # 记录第i个顾客的离开时间\n",
    "            finish_customer += 1\n",
    "            customer_out[finish_customer] = clock\n",
    "\n",
    "        #更新事件（无记忆性）\n",
    "        next_arrival = clock + np.random.exponential(1/Lambda)\n",
    "\n",
    "        if station1 >= 2:\n",
    "            next_station1_1 = clock + np.random.exponential(1)\n",
    "            next_station1_2 = clock + np.random.exponential(1)\n",
    "        elif station1 == 1:\n",
    "            next_station1_1 = clock + np.random.exponential(1)\n",
    "            next_station1_2 = clock + 1e10\n",
    "        else:\n",
    "            next_station1_1 = clock + 1e10\n",
    "            next_station1_2 = clock + 1e10\n",
    "\n",
    "        # 更新station2的情况\n",
    "        if new_station2_normal:\n",
    "            next_station2_add = np.random.normal(loc=0.5,scale=0.15)\n",
    "            while next_station2_add <= 0:\n",
    "                next_station2_add = np.random.normal(loc=0.5,scale=0.15)\n",
    "            next_station2 = clock + next_station2_add\n",
    "\n",
    "        if station2 == 0 :\n",
    "            next_station2 = clock + 2e10\n",
    "\n",
    "    # 计算输出\n",
    "    sojourn_time = customer_out - customer_in\n",
    "    warmed_sojourn_time = sojourn_time[1000:4000]\n",
    "\n",
    "    return  warmed_sojourn_time"
   ],
   "metadata": {
    "collapsed": false
   }
  },
  {
   "cell_type": "code",
   "execution_count": 12,
   "outputs": [
    {
     "data": {
      "text/plain": "(array([532., 756., 506., 294., 272., 181., 255., 114.,  45.,  45.]),\n array([ 0.65866902,  4.06696022,  7.47525142, 10.88354261, 14.29183381,\n        17.700125  , 21.1084162 , 24.5167074 , 27.92499859, 31.33328979,\n        34.74158099]),\n <BarContainer object of 10 artists>)"
     },
     "execution_count": 12,
     "metadata": {},
     "output_type": "execute_result"
    },
    {
     "data": {
      "text/plain": "<Figure size 640x480 with 1 Axes>",
      "image/png": "[encoded data removed]"
     },
     "metadata": {},
     "output_type": "display_data"
    }
   ],
   "source": [
    "warmed_sojourn_time_3 = lambda_exp1_norm0515(1.8)\n",
    "plt.hist(warmed_sojourn_time_3)"
   ],
   "metadata": {
    "collapsed": false
   }
  },
  {
   "cell_type": "code",
   "execution_count": 13,
   "outputs": [
    {
     "data": {
      "text/plain": "count    3000.000000\nmean       11.178642\nstd         7.736979\nmin         0.658669\n25%         4.868822\n50%         8.828770\n75%        16.572739\nmax        34.741581\ndtype: float64"
     },
     "execution_count": 13,
     "metadata": {},
     "output_type": "execute_result"
    }
   ],
   "source": [
    "warmed_sojourn_time_3.describe()\n"
   ],
   "metadata": {
    "collapsed": false
   }
  },
  {
   "cell_type": "markdown",
   "source": [
    "## (d)"
   ],
   "metadata": {
    "collapsed": false
   }
  },
  {
   "cell_type": "code",
   "execution_count": 17,
   "outputs": [
    {
     "name": "stderr",
     "output_type": "stream",
     "text": [
      "/var/folders/qj/s_39ngds10394t00jt5t0c4w0000gn/T/ipykernel_30406/3006335974.py:1: FutureWarning: The default dtype for empty Series will be 'object' instead of 'float64' in a future version. Specify a dtype explicitly to silence this warning.\n",
      "  result_4 = pd.Series()\n"
     ]
    }
   ],
   "source": [
    "result_4 = pd.Series()\n",
    "for Lambda in np.arange(0.01,2,0.03):\n",
    "    warmed_sojourn_time_4 = lambda_exp1_norm0515(Lambda)\n",
    "    result_4[Lambda] = warmed_sojourn_time_4.mean()\n"
   ],
   "metadata": {
    "collapsed": false
   }
  },
  {
   "cell_type": "code",
   "execution_count": 18,
   "outputs": [
    {
     "data": {
      "text/plain": "[<matplotlib.lines.Line2D at 0x1603993d0>]"
     },
     "execution_count": 18,
     "metadata": {},
     "output_type": "execute_result"
    },
    {
     "data": {
      "text/plain": "<Figure size 640x480 with 1 Axes>",
      "image/png": "[encoded data removed]"
     },
     "metadata": {},
     "output_type": "display_data"
    }
   ],
   "source": [
    "plt.plot(result_4)\n"
   ],
   "metadata": {
    "collapsed": false
   }
  }
 ],
 "metadata": {
  "kernelspec": {
   "display_name": "Python 3",
   "language": "python",
   "name": "python3"
  },
  "language_info": {
   "codemirror_mode": {
    "name": "ipython",
    "version": 2
   },
   "file_extension": ".py",
   "mimetype": "text/x-python",
   "name": "python",
   "nbconvert_exporter": "python",
   "pygments_lexer": "ipython2",
   "version": "2.7.6"
  }
 },
 "nbformat": 4,
 "nbformat_minor": 0
}
