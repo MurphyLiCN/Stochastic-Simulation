{
 "cells": [
  {
   "cell_type": "code",
   "execution_count": 1,
   "metadata": {
    "collapsed": true,
    "pycharm": {
     "name": "#%%\n"
    }
   },
   "outputs": [],
   "source": [
    "import pandas as pd\n",
    "import numpy as np\n",
    "import matplotlib.pyplot as plt\n"
   ]
  },
  {
   "cell_type": "code",
   "execution_count": 2,
   "outputs": [],
   "source": [
    "customer_in = pd.Series([0])\n",
    "customer_out = pd.Series([0])\n",
    "station1 = 0\n",
    "station2 = 0\n",
    "customer = 0\n",
    "start_customer = 0\n",
    "finish_customer = 0\n",
    "clock = 0\n",
    "\n",
    "next_arrival = np.random.exponential(1.8)\n",
    "next_station1_1 = 1e10\n",
    "next_station1_2 = 1e10\n",
    "next_station2 = 1e10"
   ],
   "metadata": {
    "collapsed": false,
    "pycharm": {
     "name": "#%%\n"
    }
   }
  },
  {
   "cell_type": "code",
   "execution_count": 3,
   "outputs": [],
   "source": [
    "#for i in range(4000):\n",
    "while finish_customer < 4000:\n",
    "    clock = min(next_station1_1,next_station1_2,next_station2,next_arrival)\n",
    "\n",
    "    if next_arrival == clock:\n",
    "        station1 += 1\n",
    "        customer += 1\n",
    "        start_customer += 1\n",
    "        customer_in[start_customer] = clock\n",
    "    elif next_station1_1 == clock:\n",
    "        station1 -= 1\n",
    "        station2 += 1\n",
    "    elif next_station1_2 == clock:\n",
    "        station1 -= 1\n",
    "        station2 += 1\n",
    "    elif next_station2 == clock:\n",
    "        #station1\n",
    "        station2 -= 1\n",
    "        customer -= 1\n",
    "        finish_customer += 1\n",
    "        customer_out[finish_customer] = clock\n",
    "\n",
    "\n",
    "\n",
    "    next_arrival = clock + np.random.exponential(1.8)\n",
    "\n",
    "    if station1 >= 2:\n",
    "        next_station1_1 = clock + np.random.exponential(1)\n",
    "        next_station1_2 = clock + np.random.exponential(1)\n",
    "    elif station1 > 0:\n",
    "        next_station1_1 = clock + np.random.exponential(1)\n",
    "        next_station1_2 = clock + 1e10\n",
    "    else:\n",
    "        next_station1_1 = clock + 1e10\n",
    "        next_station1_2 = clock + 1e10\n",
    "\n",
    "    if station2 > 0:\n",
    "        next_station2 = clock + np.random.exponential(1/2)\n",
    "    else:\n",
    "        next_station2 = clock + 1e10"
   ],
   "metadata": {
    "collapsed": false,
    "pycharm": {
     "name": "#%%\n"
    }
   }
  },
  {
   "cell_type": "code",
   "execution_count": 4,
   "outputs": [],
   "source": [
    "sojourn_time = customer_out - customer_in\n"
   ],
   "metadata": {
    "collapsed": false,
    "pycharm": {
     "name": "#%%\n"
    }
   }
  },
  {
   "cell_type": "code",
   "execution_count": 5,
   "outputs": [],
   "source": [
    "warmed_sojourn_time = sojourn_time[1000:4000]\n"
   ],
   "metadata": {
    "collapsed": false,
    "pycharm": {
     "name": "#%%\n"
    }
   }
  },
  {
   "cell_type": "code",
   "execution_count": 6,
   "outputs": [
    {
     "data": {
      "text/plain": "(array([578., 962., 708., 411., 197.,  86.,  29.,  23.,   5.,   1.]),\n array([0.01530657, 0.80181258, 1.58831859, 2.3748246 , 3.16133061,\n        3.94783662, 4.73434263, 5.52084864, 6.30735465, 7.09386066,\n        7.88036667]),\n <BarContainer object of 10 artists>)"
     },
     "execution_count": 6,
     "metadata": {},
     "output_type": "execute_result"
    },
    {
     "data": {
      "text/plain": "<Figure size 640x480 with 1 Axes>",
      "image/png": "[encoded data removed]"
     },
     "metadata": {},
     "output_type": "display_data"
    }
   ],
   "source": [
    "plt.hist(warmed_sojourn_time)\n"
   ],
   "metadata": {
    "collapsed": false,
    "pycharm": {
     "name": "#%%\n"
    }
   }
  },
  {
   "cell_type": "code",
   "execution_count": null,
   "outputs": [],
   "source": [],
   "metadata": {
    "collapsed": false,
    "pycharm": {
     "name": "#%%\n"
    }
   }
  }
 ],
 "metadata": {
  "kernelspec": {
   "display_name": "Python 3",
   "language": "python",
   "name": "python3"
  },
  "language_info": {
   "codemirror_mode": {
    "name": "ipython",
    "version": 2
   },
   "file_extension": ".py",
   "mimetype": "text/x-python",
   "name": "python",
   "nbconvert_exporter": "python",
   "pygments_lexer": "ipython2",
   "version": "2.7.6"
  }
 },
 "nbformat": 4,
 "nbformat_minor": 0
}