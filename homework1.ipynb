{
 "cells": [
  {
   "cell_type": "code",
   "execution_count": 1,
   "metadata": {
    "collapsed": true,
    "pycharm": {
     "name": "#%%\n"
    }
   },
   "outputs": [],
   "source": [
    "import pandas as pd\n",
    "import numpy as np\n",
    "import matplotlib.pyplot as plt\n"
   ]
  },
  {
   "cell_type": "markdown",
   "source": [
    "## 第一问"
   ],
   "metadata": {
    "collapsed": false,
    "pycharm": {
     "name": "#%% md\n"
    }
   }
  },
  {
   "cell_type": "code",
   "execution_count": 2,
   "outputs": [],
   "source": [
    "# 初始化\n",
    "customer_in = pd.Series([0])\n",
    "customer_out = pd.Series([0])\n",
    "station1 = 0\n",
    "station2 = 0\n",
    "start_customer = 0\n",
    "finish_customer = 0\n",
    "clock = 0\n",
    "\n",
    "# 生成第一个事件\n",
    "next_arrival = np.random.exponential(1/1.8)\n",
    "next_station1_1 = 1e10\n",
    "next_station1_2 = 1e10\n",
    "next_station2 = 1e10"
   ],
   "metadata": {
    "collapsed": false,
    "pycharm": {
     "name": "#%%\n"
    }
   }
  },
  {
   "cell_type": "code",
   "execution_count": 3,
   "outputs": [],
   "source": [
    "# 循环直到第4000个客户离开\n",
    "while finish_customer < 4000:\n",
    "    # 新的时间为下一个事件\n",
    "    clock = min(next_station1_1,next_station1_2,next_station2,next_arrival)\n",
    "\n",
    "    # 判断哪个事件发生了，并做出相应反应\n",
    "    if next_arrival == clock:\n",
    "        station1 += 1\n",
    "        start_customer += 1\n",
    "        # 记录第i个顾客第进入时间\n",
    "        customer_in[start_customer] = clock\n",
    "    elif next_station1_1 == clock:\n",
    "        station1 -= 1\n",
    "        station2 += 1\n",
    "    elif next_station1_2 == clock:\n",
    "        station1 -= 1\n",
    "        station2 += 1\n",
    "    elif next_station2 == clock:\n",
    "        station2 -= 1\n",
    "        finish_customer += 1\n",
    "        # 记录第i个顾客的离开时间\n",
    "        customer_out[finish_customer] = clock\n",
    "\n",
    "\n",
    "\n",
    "\n",
    "\n",
    "    #更新事件（无记忆性）\n",
    "    next_arrival = clock + np.random.exponential(1/1.8)\n",
    "\n",
    "    if station1 >= 2:\n",
    "        next_station1_1 = clock + np.random.exponential(1)\n",
    "        next_station1_2 = clock + np.random.exponential(1)\n",
    "    elif station1 > 0:\n",
    "        next_station1_1 = clock + np.random.exponential(1)\n",
    "        next_station1_2 = clock + 1e10\n",
    "    else:\n",
    "        next_station1_1 = clock + 1e10\n",
    "        next_station1_2 = clock + 1e10\n",
    "\n",
    "    if station2 > 0:\n",
    "        next_station2 = clock + np.random.exponential(1/2)\n",
    "    else:\n",
    "        next_station2 = clock + 1e10\n"
   ],
   "metadata": {
    "collapsed": false,
    "pycharm": {
     "name": "#%%\n"
    }
   }
  },
  {
   "cell_type": "markdown",
   "source": [
    "## 第二问"
   ],
   "metadata": {
    "collapsed": false,
    "pycharm": {
     "name": "#%% md\n"
    }
   }
  },
  {
   "cell_type": "code",
   "execution_count": 4,
   "outputs": [
    {
     "data": {
      "text/plain": "(array([314., 701., 640., 538., 403., 165., 119.,  62.,  32.,  26.]),\n array([ 0.1756303 ,  3.17996542,  6.18430053,  9.18863565, 12.19297077,\n        15.19730589, 18.20164101, 21.20597613, 24.21031125, 27.21464636,\n        30.21898148]),\n <BarContainer object of 10 artists>)"
     },
     "execution_count": 4,
     "metadata": {},
     "output_type": "execute_result"
    },
    {
     "data": {
      "text/plain": "<Figure size 640x480 with 1 Axes>",
      "image/png": "[encoded data removed]"
     },
     "metadata": {},
     "output_type": "display_data"
    }
   ],
   "source": [
    "sojourn_time = customer_out - customer_in\n",
    "warmed_sojourn_time_2 = sojourn_time[1000:4000]\n",
    "plt.hist(warmed_sojourn_time_2)"
   ],
   "metadata": {
    "collapsed": false,
    "pycharm": {
     "name": "#%%\n"
    }
   }
  },
  {
   "cell_type": "code",
   "execution_count": 5,
   "outputs": [
    {
     "data": {
      "text/plain": "count    3000.000000\nmean        9.362713\nstd         5.575216\nmin         0.175630\n25%         5.198729\n50%         8.189086\n75%        12.452900\nmax        30.218981\ndtype: float64"
     },
     "execution_count": 5,
     "metadata": {},
     "output_type": "execute_result"
    }
   ],
   "source": [
    "warmed_sojourn_time_2.describe()"
   ],
   "metadata": {
    "collapsed": false,
    "pycharm": {
     "name": "#%%\n"
    }
   }
  },
  {
   "cell_type": "markdown",
   "source": [
    "## 第三问"
   ],
   "metadata": {
    "collapsed": false,
    "pycharm": {
     "name": "#%% md\n"
    }
   }
  },
  {
   "cell_type": "code",
   "execution_count": 33,
   "outputs": [],
   "source": [
    "def lambda_exp1_norm0515(Lambda=1.8):\n",
    "    # 初始化\n",
    "    customer_in = pd.Series([0])\n",
    "    customer_out = pd.Series([0])\n",
    "    station1 = 0\n",
    "    station2 = 0\n",
    "    start_customer = 0\n",
    "    finish_customer = 0\n",
    "    A_list = pd.Series([0])\n",
    "\n",
    "\n",
    "    # 生成第一个事件\n",
    "    next_arrival = np.random.exponential(1/Lambda)\n",
    "    next_station1_1 = 1e10\n",
    "    next_station1_2 = 1e10\n",
    "    next_station2 = 1e10\n",
    "\n",
    "    # 循环直到第4000个客户离开\n",
    "    while finish_customer < 4000:\n",
    "        # 新的时间为下一个事件\n",
    "        clock = min(next_station1_1,next_station1_2,next_station2,next_arrival)\n",
    "\n",
    "\n",
    "        # 判断station2的情况\n",
    "        new_station2_normal = False\n",
    "\n",
    "        # 判断哪个事件发生了，并做出相应反应\n",
    "        if next_arrival == clock:\n",
    "            station1 += 1\n",
    "            # 记录第i个顾客第进入时间\n",
    "            start_customer += 1\n",
    "            customer_in[start_customer] = clock\n",
    "\n",
    "        elif next_station1_1 == clock:\n",
    "            station1 -= 1\n",
    "            station2 += 1\n",
    "            # 判断station2的情况\n",
    "            if station2 == 1:\n",
    "                new_station2_normal = True\n",
    "\n",
    "        elif next_station1_2 == clock:\n",
    "            station1 -= 1\n",
    "            station2 += 1\n",
    "            # 判断station2的情况\n",
    "            if station2 == 1:\n",
    "                new_station2_normal = True\n",
    "\n",
    "        elif next_station2 == clock:\n",
    "            station2 -= 1\n",
    "            if station2 > 0:\n",
    "                new_station2_normal = True\n",
    "            # 记录第i个顾客的离开时间\n",
    "            finish_customer += 1\n",
    "            customer_out[finish_customer] = clock\n",
    "\n",
    "        #更新事件（无记忆性）\n",
    "        next_arrival = clock + np.random.exponential(1/Lambda)\n",
    "\n",
    "        if station1 >= 2:\n",
    "            next_station1_1 = clock + np.random.exponential(1)\n",
    "            next_station1_2 = clock + np.random.exponential(1)\n",
    "        elif station1 == 1:\n",
    "            next_station1_1 = clock + np.random.exponential(1)\n",
    "            next_station1_2 = clock + 1e10\n",
    "        else:\n",
    "            next_station1_1 = clock + 1e10\n",
    "            next_station1_2 = clock + 1e10\n",
    "\n",
    "        # 更新station2的情况\n",
    "        if new_station2_normal:\n",
    "            next_station2_add = np.random.normal(loc=0.5,scale=0.15)\n",
    "            while next_station2_add <= 0:\n",
    "                next_station2_add = np.random.normal(loc=0.5,scale=0.15)\n",
    "            next_station2 = clock + next_station2_add\n",
    "\n",
    "        if station2 == 0 :\n",
    "            next_station2 = clock + 2e10\n",
    "\n",
    "    # 计算输出\n",
    "    sojourn_time = customer_out - customer_in\n",
    "    warmed_sojourn_time = sojourn_time[1000:4000]\n",
    "\n",
    "    return  warmed_sojourn_time"
   ],
   "metadata": {
    "collapsed": false,
    "pycharm": {
     "name": "#%%\n"
    }
   }
  },
  {
   "cell_type": "code",
   "execution_count": 34,
   "outputs": [
    {
     "data": {
      "text/plain": "(array([560., 899., 306., 269., 291., 191., 166., 162., 119.,  37.]),\n array([ 0.32321927,  3.42479802,  6.52637677,  9.62795552, 12.72953427,\n        15.83111302, 18.93269177, 22.03427052, 25.13584927, 28.23742802,\n        31.33900677]),\n <BarContainer object of 10 artists>)"
     },
     "execution_count": 34,
     "metadata": {},
     "output_type": "execute_result"
    },
    {
     "data": {
      "text/plain": "<Figure size 640x480 with 1 Axes>",
      "image/png": "[encoded data removed]"
     },
     "metadata": {},
     "output_type": "display_data"
    }
   ],
   "source": [
    "warmed_sojourn_time_3 = lambda_exp1_norm0515(1.8)\n",
    "plt.hist(warmed_sojourn_time_3)"
   ],
   "metadata": {
    "collapsed": false,
    "pycharm": {
     "name": "#%%\n"
    }
   }
  },
  {
   "cell_type": "code",
   "execution_count": 35,
   "outputs": [
    {
     "data": {
      "text/plain": "count    3000.000000\nmean       10.022808\nstd         7.581257\nmin         0.323219\n25%         3.952322\n50%         6.772829\n75%        15.188631\nmax        31.339007\ndtype: float64"
     },
     "execution_count": 35,
     "metadata": {},
     "output_type": "execute_result"
    }
   ],
   "source": [
    "warmed_sojourn_time_3.describe()\n"
   ],
   "metadata": {
    "collapsed": false,
    "pycharm": {
     "name": "#%%\n"
    }
   }
  },
  {
   "cell_type": "markdown",
   "source": [
    "## 第四问"
   ],
   "metadata": {
    "collapsed": false,
    "pycharm": {
     "name": "#%% md\n"
    }
   }
  },
  {
   "cell_type": "code",
   "execution_count": 40,
   "outputs": [
    {
     "name": "stderr",
     "output_type": "stream",
     "text": [
      "/var/folders/qj/s_39ngds10394t00jt5t0c4w0000gn/T/ipykernel_24108/2875298427.py:1: FutureWarning: The default dtype for empty Series will be 'object' instead of 'float64' in a future version. Specify a dtype explicitly to silence this warning.\n",
      "  result_4 = pd.Series()\n"
     ]
    }
   ],
   "source": [
    "result_4 = pd.Series()\n",
    "for Lambda in np.arange(0.05,2,0.01):\n",
    "    warmed_sojourn_time_4 = lambda_exp1_norm0515(Lambda)\n",
    "    result_4[Lambda] = warmed_sojourn_time_4.mean()\n"
   ],
   "metadata": {
    "collapsed": false,
    "pycharm": {
     "name": "#%%\n"
    }
   }
  },
  {
   "cell_type": "code",
   "execution_count": 41,
   "outputs": [
    {
     "data": {
      "text/plain": "[<matplotlib.lines.Line2D at 0x15aae2b20>]"
     },
     "execution_count": 41,
     "metadata": {},
     "output_type": "execute_result"
    },
    {
     "data": {
      "text/plain": "<Figure size 640x480 with 1 Axes>",
      "image/png": "[encoded data removed]"
     },
     "metadata": {},
     "output_type": "display_data"
    }
   ],
   "source": [
    "plt.plot(result_4)\n"
   ],
   "metadata": {
    "collapsed": false,
    "pycharm": {
     "name": "#%%\n"
    }
   }
  },
  {
   "cell_type": "code",
   "execution_count": null,
   "outputs": [],
   "source": [],
   "metadata": {
    "collapsed": false,
    "pycharm": {
     "name": "#%%\n"
    }
   }
  }
 ],
 "metadata": {
  "kernelspec": {
   "display_name": "Python 3",
   "language": "python",
   "name": "python3"
  },
  "language_info": {
   "codemirror_mode": {
    "name": "ipython",
    "version": 2
   },
   "file_extension": ".py",
   "mimetype": "text/x-python",
   "name": "python",
   "nbconvert_exporter": "python",
   "pygments_lexer": "ipython2",
   "version": "2.7.6"
  }
 },
 "nbformat": 4,
 "nbformat_minor": 0
}