{
 "cells": [
  {
   "cell_type": "code",
   "execution_count": 2,
   "metadata": {
    "collapsed": true
   },
   "outputs": [],
   "source": [
    "import pandas as pd\n",
    "import numpy as np\n",
    "import matplotlib.pyplot as plt"
   ]
  },
  {
   "cell_type": "markdown",
   "metadata": {},
   "source": [
    "## (a)"
   ]
  },
  {
   "cell_type": "markdown",
   "metadata": {},
   "source": [
    "### pseudocode\n",
    "> \\# 初始化  \n",
    "> station1 = 0\n",
    "> station2 = 0\n",
    "> start_customer = 0\n",
    "> finish_ customer = 0  \n",
    ">\n",
    "> \\# 生成第一个事件  \n",
    "> next_arrival = exp(1/1.8)\n",
    "> next_station_1_1_finish = 2e10\n",
    "> next_station_1_2_finish = 2e10\n",
    "> next_station_2_finish = 2e10  \n",
    ">\n",
    "> \\# 循环直到服务完第4000个客户（1000热身+3000记录）  \n",
    "> **WHILE** finish_custumer <= 4000:\n",
    ">> \\# 进入下一个事件  \n",
    ">> clock = min(next_arrival,next_station_1_1_finish,next_station_1_2_finish,next_station_2_finish)  \n",
    ">> \\# 更新下一个事件对状态对影响  \n",
    ">> **if** clock == next_arrival:\n",
    ">>> station1 += 1\n",
    "    start_customer += 1  \n",
    "    \\# 记录第i个客户进入系统的时间  \n",
    "    customer_in[start_customer] = clock\n",
    ">>\n",
    ">> **if** clock == next_station_1_1_finish:\n",
    ">>> station1 -= 1\n",
    "    station2 += 1\n",
    ">>\n",
    ">> **if** clock == next_station_1_2_finish:\n",
    ">>> station1 -= 1\n",
    "    station2 += 1\n",
    ">>\n",
    ">> **if** clock == next_station_2_finish:\n",
    ">>> station2 -= 1\n",
    "    finish_customer += 1  \n",
    "    \\# 记录第i个客户离开系统的时间  \n",
    "    customer_out[finish_customer] = clock\n",
    ">>\n",
    ">> \\# 产生下一个事件（利用了指数分布的无记忆性）  \n",
    ">> next_arrival = clock + exp(1/1.8)\n",
    ">>\n",
    ">> **if** station1 >= 2:\n",
    ">>> next_station1_1 = clock + exp(1)\n",
    "    next_station1_2 = clock + exp(1)\n",
    ">>\n",
    ">> **elif** station1 > 0:\n",
    ">>> next_station1_1 = clock + exp(1)\n",
    "    next_station1_2 = clock + 1e10\n",
    ">>\n",
    ">> **else**:\n",
    ">>> next_station1_1 = clock + 1e10\n",
    "    next_station1_2 = clock + 1e10\n",
    ">>\n",
    ">> **if** station2 > 0:\n",
    ">>> next_station2 = clock + exp(1/2)\n",
    ">>\n",
    ">>**else**:\n",
    ">>> next_station2 = clock + 1e10\n",
    ">\n",
    "> \\# 计算第i个客户在系统中停留的时间  \n",
    "> sojourn_time = customer_out - customer_in"
   ]
  },
  {
   "cell_type": "code",
   "execution_count": 7,
   "metadata": {},
   "outputs": [],
   "source": [
    "# 初始化\n",
    "customer_in = pd.Series([0])\n",
    "customer_out = pd.Series([0])\n",
    "station1 = 0\n",
    "station2 = 0\n",
    "start_customer = 0\n",
    "finish_customer = 0\n",
    "clock = 0\n",
    "\n",
    "# 生成第一个事件\n",
    "next_arrival = np.random.exponential(1/1.8)\n",
    "next_station1_1 = 1e10\n",
    "next_station1_2 = 1e10\n",
    "next_station2 = 1e10"
   ]
  },
  {
   "cell_type": "code",
   "execution_count": 8,
   "metadata": {},
   "outputs": [],
   "source": [
    "# 循环直到第4000个客户离开\n",
    "while finish_customer < 4000:\n",
    "    # 新的时间为下一个事件\n",
    "    clock = min(next_station1_1,next_station1_2,next_station2,next_arrival)\n",
    "\n",
    "    # 判断哪个事件发生了，并做出相应反应\n",
    "    if next_arrival == clock:\n",
    "        station1 += 1\n",
    "        start_customer += 1\n",
    "        # 记录第i个顾客第进入时间\n",
    "        customer_in[start_customer] = clock\n",
    "    elif next_station1_1 == clock:\n",
    "        station1 -= 1\n",
    "        station2 += 1\n",
    "    elif next_station1_2 == clock:\n",
    "        station1 -= 1\n",
    "        station2 += 1\n",
    "    elif next_station2 == clock:\n",
    "        station2 -= 1\n",
    "        finish_customer += 1\n",
    "        # 记录第i个顾客的离开时间\n",
    "        customer_out[finish_customer] = clock\n",
    "\n",
    "\n",
    "    #更新事件（无记忆性）\n",
    "    next_arrival = clock + np.random.exponential(1/1.8)\n",
    "\n",
    "    if station1 >= 2:\n",
    "        next_station1_1 = clock + np.random.exponential(1)\n",
    "        next_station1_2 = clock + np.random.exponential(1)\n",
    "    elif station1 > 0:\n",
    "        next_station1_1 = clock + np.random.exponential(1)\n",
    "        next_station1_2 = clock + 1e10\n",
    "    else:\n",
    "        next_station1_1 = clock + 1e10\n",
    "        next_station1_2 = clock + 1e10\n",
    "\n",
    "    if station2 > 0:\n",
    "        next_station2 = clock + np.random.exponential(1/2)\n",
    "    else:\n",
    "        next_station2 = clock + 1e10\n"
   ]
  },
  {
   "cell_type": "markdown",
   "metadata": {},
   "source": [
    "## (b)"
   ]
  },
  {
   "cell_type": "code",
   "execution_count": 9,
   "metadata": {},
   "outputs": [
    {
     "data": {
      "text/plain": "(array([447., 827., 601., 366., 256., 239., 139.,  39.,  44.,  42.]),\n array([ 0.08244429,  3.47932184,  6.87619938, 10.27307693, 13.66995448,\n        17.06683203, 20.46370958, 23.86058713, 27.25746468, 30.65434223,\n        34.05121977]),\n <BarContainer object of 10 artists>)"
     },
     "execution_count": 9,
     "metadata": {},
     "output_type": "execute_result"
    },
    {
     "data": {
      "text/plain": "<Figure size 640x480 with 1 Axes>",
      "image/png": "[encoded data removed]"
     },
     "metadata": {},
     "output_type": "display_data"
    }
   ],
   "source": [
    "sojourn_time = customer_out - customer_in\n",
    "warmed_sojourn_time_2 = sojourn_time[1000:4000]\n",
    "plt.hist(warmed_sojourn_time_2)"
   ]
  },
  {
   "cell_type": "code",
   "execution_count": 10,
   "outputs": [
    {
     "data": {
      "text/plain": "count    3000.000000\nmean        9.942074\nstd         6.875359\nmin         0.082444\n25%         4.747825\n50%         8.149642\n75%        13.852254\nmax        34.051220\ndtype: float64"
     },
     "execution_count": 10,
     "metadata": {},
     "output_type": "execute_result"
    }
   ],
   "source": [
    "warmed_sojourn_time_2.describe()"
   ],
   "metadata": {
    "collapsed": false
   }
  },
  {
   "cell_type": "markdown",
   "source": [
    "理论值为10.26， 与仿真值接近（但每次仿真会有偏差）"
   ],
   "metadata": {
    "collapsed": false
   }
  },
  {
   "cell_type": "markdown",
   "source": [
    "## (c)"
   ],
   "metadata": {
    "collapsed": false
   }
  },
  {
   "cell_type": "code",
   "execution_count": 29,
   "metadata": {},
   "outputs": [],
   "source": [
    "def lambda_exp1_norm0515(Lambda=1.8):\n",
    "    # 初始化\n",
    "    customer_in = pd.Series([0])\n",
    "    customer_out = pd.Series([0])\n",
    "    station1 = 0\n",
    "    station2 = 0\n",
    "    start_customer = 0\n",
    "    finish_customer = 0\n",
    "    A_list = pd.Series([0])\n",
    "\n",
    "\n",
    "    # 生成第一个事件\n",
    "    next_arrival = np.random.exponential(1/Lambda)\n",
    "    next_station1_1 = 1e10\n",
    "    next_station1_2 = 1e10\n",
    "    next_station2 = 1e10\n",
    "\n",
    "    # 循环直到第4000个客户离开\n",
    "    while finish_customer < 4000:\n",
    "        # 新的时间为下一个事件\n",
    "        clock = min(next_station1_1,next_station1_2,next_station2,next_arrival)\n",
    "\n",
    "\n",
    "        # 判断station2的情况\n",
    "        new_station2_normal = False\n",
    "\n",
    "        # 判断哪个事件发生了，并做出相应反应\n",
    "        if next_arrival == clock:\n",
    "            station1 += 1\n",
    "            # 记录第i个顾客第进入时间\n",
    "            start_customer += 1\n",
    "            customer_in[start_customer] = clock\n",
    "\n",
    "        elif next_station1_1 == clock:\n",
    "            station1 -= 1\n",
    "            station2 += 1\n",
    "            # 判断station2的情况\n",
    "            if station2 == 1:\n",
    "                new_station2_normal = True\n",
    "\n",
    "        elif next_station1_2 == clock:\n",
    "            station1 -= 1\n",
    "            station2 += 1\n",
    "            # 判断station2的情况\n",
    "            if station2 == 1:\n",
    "                new_station2_normal = True\n",
    "\n",
    "        elif next_station2 == clock:\n",
    "            station2 -= 1\n",
    "            if station2 > 0:\n",
    "                new_station2_normal = True\n",
    "            # 记录第i个顾客的离开时间\n",
    "            finish_customer += 1\n",
    "            customer_out[finish_customer] = clock\n",
    "\n",
    "        #更新事件（无记忆性）\n",
    "        next_arrival = clock + np.random.exponential(1/Lambda)\n",
    "\n",
    "        if station1 >= 2:\n",
    "            next_station1_1 = clock + np.random.exponential(1)\n",
    "            next_station1_2 = clock + np.random.exponential(1)\n",
    "        elif station1 == 1:\n",
    "            next_station1_1 = clock + np.random.exponential(1)\n",
    "            next_station1_2 = clock + 1e10\n",
    "        else:\n",
    "            next_station1_1 = clock + 1e10\n",
    "            next_station1_2 = clock + 1e10\n",
    "\n",
    "        # 更新station2的情况\n",
    "        if new_station2_normal:\n",
    "            next_station2_add = np.random.normal(loc=0.5,scale=0.15)\n",
    "            while next_station2_add <= 0:\n",
    "                next_station2_add = np.random.normal(loc=0.5,scale=0.15)\n",
    "            next_station2 = clock + next_station2_add\n",
    "\n",
    "        if station2 == 0 :\n",
    "            next_station2 = clock + 2e10\n",
    "\n",
    "    # 计算输出\n",
    "    sojourn_time = customer_out - customer_in\n",
    "    warmed_sojourn_time = sojourn_time[1000:4000]\n",
    "\n",
    "    return  warmed_sojourn_time"
   ]
  },
  {
   "cell_type": "code",
   "execution_count": 30,
   "metadata": {},
   "outputs": [
    {
     "data": {
      "text/plain": "(array([260., 394., 318., 367., 421., 429., 369., 275., 128.,  39.]),\n array([ 0.4808281 ,  2.84385583,  5.20688356,  7.56991129,  9.93293901,\n        12.29596674, 14.65899447, 17.0220222 , 19.38504993, 21.74807765,\n        24.11110538]),\n <BarContainer object of 10 artists>)"
     },
     "execution_count": 30,
     "metadata": {},
     "output_type": "execute_result"
    },
    {
     "data": {
      "text/plain": "<Figure size 640x480 with 1 Axes>",
      "image/png": "[encoded data removed]"
     },
     "metadata": {},
     "output_type": "display_data"
    }
   ],
   "source": [
    "warmed_sojourn_time_3 = lambda_exp1_norm0515(1.8)\n",
    "plt.hist(warmed_sojourn_time_3)"
   ]
  },
  {
   "cell_type": "code",
   "execution_count": 31,
   "metadata": {},
   "outputs": [
    {
     "data": {
      "text/plain": "count    3000.000000\nmean       10.715893\nstd         5.541096\nmin         0.480828\n25%         5.885049\n50%        11.076667\n75%        15.022438\nmax        24.111105\ndtype: float64"
     },
     "execution_count": 31,
     "metadata": {},
     "output_type": "execute_result"
    }
   ],
   "source": [
    "warmed_sojourn_time_3.describe()\n"
   ]
  },
  {
   "cell_type": "markdown",
   "metadata": {},
   "source": [
    "## (d)"
   ]
  },
  {
   "cell_type": "code",
   "execution_count": 17,
   "metadata": {},
   "outputs": [
    {
     "name": "stderr",
     "output_type": "stream",
     "text": [
      "/var/folders/qj/s_39ngds10394t00jt5t0c4w0000gn/T/ipykernel_30406/3006335974.py:1: FutureWarning: The default dtype for empty Series will be 'object' instead of 'float64' in a future version. Specify a dtype explicitly to silence this warning.\n",
      "  result_4 = pd.Series()\n"
     ]
    }
   ],
   "source": [
    "result_4 = pd.Series()\n",
    "for Lambda in np.arange(0.01,2,0.03):\n",
    "    warmed_sojourn_time_4 = lambda_exp1_norm0515(Lambda)\n",
    "    result_4[Lambda] = warmed_sojourn_time_4.mean()\n"
   ]
  },
  {
   "cell_type": "code",
   "execution_count": 18,
   "metadata": {},
   "outputs": [
    {
     "data": {
      "text/plain": [
       "[<matplotlib.lines.Line2D at 0x1603993d0>]"
      ]
     },
     "execution_count": 18,
     "metadata": {},
     "output_type": "execute_result"
    },
    {
     "data": {
      "image/png": "[encoded data removed]",
      "text/plain": [
       "<Figure size 640x480 with 1 Axes>"
      ]
     },
     "metadata": {},
     "output_type": "display_data"
    }
   ],
   "source": [
    "plt.plot(result_4)\n"
   ]
  }
 ],
 "metadata": {
  "kernelspec": {
   "display_name": "Python 3 (ipykernel)",
   "language": "python",
   "name": "python3"
  },
  "language_info": {
   "codemirror_mode": {
    "name": "ipython",
    "version": 3
   },
   "file_extension": ".py",
   "mimetype": "text/x-python",
   "name": "python",
   "nbconvert_exporter": "python",
   "pygments_lexer": "ipython3",
   "version": "3.9.13"
  }
 },
 "nbformat": 4,
 "nbformat_minor": 1
}
