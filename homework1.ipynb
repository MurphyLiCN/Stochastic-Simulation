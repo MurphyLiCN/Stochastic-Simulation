{
 "cells": [
  {
   "cell_type": "code",
   "execution_count": 129,
   "metadata": {
    "collapsed": true,
    "pycharm": {
     "name": "#%%\n"
    }
   },
   "outputs": [],
   "source": [
    "import pandas as pd\n",
    "import numpy as np\n",
    "import matplotlib.pyplot as plt\n"
   ]
  },
  {
   "cell_type": "code",
   "execution_count": 130,
   "outputs": [],
   "source": [
    "state = pd.DataFrame([0,0,0,0],index=['clock','station1','station2','customer'])\n",
    "sojourn_time = pd.Series([0])\n",
    "station1 = 0\n",
    "station2 = 0\n",
    "customer = 0\n",
    "finish_customer = 0\n",
    "clock = 0\n",
    "next_arrival = np.random.exponential(1.8)\n",
    "next_station1_1 = 1e10\n",
    "next_station1_2 = 1e10\n",
    "next_station2 = 1e10\n",
    "number_event = 0"
   ],
   "metadata": {
    "collapsed": false,
    "pycharm": {
     "name": "#%%\n"
    }
   }
  },
  {
   "cell_type": "code",
   "execution_count": 131,
   "outputs": [
    {
     "name": "stderr",
     "output_type": "stream",
     "text": [
      "/var/folders/qj/s_39ngds10394t00jt5t0c4w0000gn/T/ipykernel_40783/163032340.py:9: PerformanceWarning: DataFrame is highly fragmented.  This is usually the result of calling `frame.insert` many times, which has poor performance.  Consider joining all columns at once using pd.concat(axis=1) instead. To get a de-fragmented frame, use `newframe = frame.copy()`\n",
      "  state[number_event] = [clock,station1,station2,customer]\n",
      "/var/folders/qj/s_39ngds10394t00jt5t0c4w0000gn/T/ipykernel_40783/163032340.py:21: PerformanceWarning: DataFrame is highly fragmented.  This is usually the result of calling `frame.insert` many times, which has poor performance.  Consider joining all columns at once using pd.concat(axis=1) instead. To get a de-fragmented frame, use `newframe = frame.copy()`\n",
      "  state[number_event] = [clock,station1,station2,customer]\n",
      "/var/folders/qj/s_39ngds10394t00jt5t0c4w0000gn/T/ipykernel_40783/163032340.py:28: PerformanceWarning: DataFrame is highly fragmented.  This is usually the result of calling `frame.insert` many times, which has poor performance.  Consider joining all columns at once using pd.concat(axis=1) instead. To get a de-fragmented frame, use `newframe = frame.copy()`\n",
      "  state[number_event] = [clock,station1,station2,customer]\n",
      "/var/folders/qj/s_39ngds10394t00jt5t0c4w0000gn/T/ipykernel_40783/163032340.py:15: PerformanceWarning: DataFrame is highly fragmented.  This is usually the result of calling `frame.insert` many times, which has poor performance.  Consider joining all columns at once using pd.concat(axis=1) instead. To get a de-fragmented frame, use `newframe = frame.copy()`\n",
      "  state[number_event] = [clock,station1,station2,customer]\n"
     ]
    }
   ],
   "source": [
    "for i in range(4000):\n",
    "    clock = min(next_station1_1,next_station1_2,next_station2,next_arrival)\n",
    "\n",
    "    if next_arrival == clock:\n",
    "        number_event += 1\n",
    "        station1 += 1\n",
    "        #station2\n",
    "        customer += 1\n",
    "        state[number_event] = [clock,station1,station2,customer]\n",
    "    elif next_station1_1 == clock:\n",
    "        number_event += 1\n",
    "        station1 -= 1\n",
    "        station2 += 1\n",
    "        #customer\n",
    "        state[number_event] = [clock,station1,station2,customer]\n",
    "    elif next_station1_2 == clock:\n",
    "        number_event += 1\n",
    "        station1 -= 1\n",
    "        station2 += 1\n",
    "        #customer\n",
    "        state[number_event] = [clock,station1,station2,customer]\n",
    "    elif next_station2 == clock:\n",
    "        number_event += 1\n",
    "        #station1\n",
    "        station2 -= 1\n",
    "        customer -= 1\n",
    "        finish_customer += 1\n",
    "        state[number_event] = [clock,station1,station2,customer]\n",
    "        sojourn_time[finish_customer] = clock - sojourn_time[finish_customer-1]\n",
    "\n",
    "\n",
    "\n",
    "    next_arrival = clock + np.random.exponential(1.8)\n",
    "\n",
    "    if station1 >= 2:\n",
    "        next_station1_1 = clock + np.random.exponential(1)\n",
    "        next_station1_2 = clock + np.random.exponential(1)\n",
    "    elif station1 > 0:\n",
    "        next_station1_1 = clock + np.random.exponential(1)\n",
    "        next_station1_2 = clock + 1e10\n",
    "    else:\n",
    "        next_station1_1 = clock + 1e10\n",
    "        next_station1_2 = clock + 1e10\n",
    "\n",
    "    if station2 > 0:\n",
    "        next_station2 = clock + np.random.exponential(2)\n",
    "    else:\n",
    "        next_station2 = clock + 1e10"
   ],
   "metadata": {
    "collapsed": false,
    "pycharm": {
     "name": "#%%\n"
    }
   }
  },
  {
   "cell_type": "code",
   "execution_count": 132,
   "outputs": [
    {
     "data": {
      "text/plain": "          0         1         2         3         4         5         6     \\\nclock        0  0.169254  0.354801  0.536823  1.826638  2.081345  2.151044   \nstation1     0  1.000000  0.000000  0.000000  1.000000  2.000000  1.000000   \nstation2     0  0.000000  1.000000  0.000000  0.000000  0.000000  1.000000   \ncustomer     0  1.000000  1.000000  0.000000  1.000000  2.000000  2.000000   \n\n              7         8         9     ...        3991         3992  \\\nclock     2.181475  4.670099  5.194299  ...  2476.52268  2476.853371   \nstation1  1.000000  0.000000  1.000000  ...     1.00000     2.000000   \nstation2  0.000000  1.000000  1.000000  ...   180.00000   180.000000   \ncustomer  1.000000  1.000000  2.000000  ...   181.00000   182.000000   \n\n                 3993         3994         3995         3996         3997  \\\nclock     2477.200892  2477.334933  2478.515969  2480.015817  2481.015848   \nstation1     1.000000     0.000000     0.000000     1.000000     0.000000   \nstation2   181.000000   182.000000   181.000000   181.000000   182.000000   \ncustomer   182.000000   182.000000   181.000000   182.000000   182.000000   \n\n                 3998         3999         4000  \nclock     2481.436175  2481.733546  2484.744258  \nstation1     0.000000     0.000000     1.000000  \nstation2   181.000000   180.000000   180.000000  \ncustomer   181.000000   180.000000   181.000000  \n\n[4 rows x 4001 columns]",
      "text/html": "<div>\n<style scoped>\n    .dataframe tbody tr th:only-of-type {\n        vertical-align: middle;\n    }\n\n    .dataframe tbody tr th {\n        vertical-align: top;\n    }\n\n    .dataframe thead th {\n        text-align: right;\n    }\n</style>\n<table border=\"1\" class=\"dataframe\">\n  <thead>\n    <tr style=\"text-align: right;\">\n      <th></th>\n      <th>0</th>\n      <th>1</th>\n      <th>2</th>\n      <th>3</th>\n      <th>4</th>\n      <th>5</th>\n      <th>6</th>\n      <th>7</th>\n      <th>8</th>\n      <th>9</th>\n      <th>...</th>\n      <th>3991</th>\n      <th>3992</th>\n      <th>3993</th>\n      <th>3994</th>\n      <th>3995</th>\n      <th>3996</th>\n      <th>3997</th>\n      <th>3998</th>\n      <th>3999</th>\n      <th>4000</th>\n    </tr>\n  </thead>\n  <tbody>\n    <tr>\n      <th>clock</th>\n      <td>0</td>\n      <td>0.169254</td>\n      <td>0.354801</td>\n      <td>0.536823</td>\n      <td>1.826638</td>\n      <td>2.081345</td>\n      <td>2.151044</td>\n      <td>2.181475</td>\n      <td>4.670099</td>\n      <td>5.194299</td>\n      <td>...</td>\n      <td>2476.52268</td>\n      <td>2476.853371</td>\n      <td>2477.200892</td>\n      <td>2477.334933</td>\n      <td>2478.515969</td>\n      <td>2480.015817</td>\n      <td>2481.015848</td>\n      <td>2481.436175</td>\n      <td>2481.733546</td>\n      <td>2484.744258</td>\n    </tr>\n    <tr>\n      <th>station1</th>\n      <td>0</td>\n      <td>1.000000</td>\n      <td>0.000000</td>\n      <td>0.000000</td>\n      <td>1.000000</td>\n      <td>2.000000</td>\n      <td>1.000000</td>\n      <td>1.000000</td>\n      <td>0.000000</td>\n      <td>1.000000</td>\n      <td>...</td>\n      <td>1.00000</td>\n      <td>2.000000</td>\n      <td>1.000000</td>\n      <td>0.000000</td>\n      <td>0.000000</td>\n      <td>1.000000</td>\n      <td>0.000000</td>\n      <td>0.000000</td>\n      <td>0.000000</td>\n      <td>1.000000</td>\n    </tr>\n    <tr>\n      <th>station2</th>\n      <td>0</td>\n      <td>0.000000</td>\n      <td>1.000000</td>\n      <td>0.000000</td>\n      <td>0.000000</td>\n      <td>0.000000</td>\n      <td>1.000000</td>\n      <td>0.000000</td>\n      <td>1.000000</td>\n      <td>1.000000</td>\n      <td>...</td>\n      <td>180.00000</td>\n      <td>180.000000</td>\n      <td>181.000000</td>\n      <td>182.000000</td>\n      <td>181.000000</td>\n      <td>181.000000</td>\n      <td>182.000000</td>\n      <td>181.000000</td>\n      <td>180.000000</td>\n      <td>180.000000</td>\n    </tr>\n    <tr>\n      <th>customer</th>\n      <td>0</td>\n      <td>1.000000</td>\n      <td>1.000000</td>\n      <td>0.000000</td>\n      <td>1.000000</td>\n      <td>2.000000</td>\n      <td>2.000000</td>\n      <td>1.000000</td>\n      <td>1.000000</td>\n      <td>2.000000</td>\n      <td>...</td>\n      <td>181.00000</td>\n      <td>182.000000</td>\n      <td>182.000000</td>\n      <td>182.000000</td>\n      <td>181.000000</td>\n      <td>182.000000</td>\n      <td>182.000000</td>\n      <td>181.000000</td>\n      <td>180.000000</td>\n      <td>181.000000</td>\n    </tr>\n  </tbody>\n</table>\n<p>4 rows × 4001 columns</p>\n</div>"
     },
     "execution_count": 132,
     "metadata": {},
     "output_type": "execute_result"
    }
   ],
   "source": [
    "state\n"
   ],
   "metadata": {
    "collapsed": false,
    "pycharm": {
     "name": "#%%\n"
    }
   }
  },
  {
   "cell_type": "code",
   "execution_count": 133,
   "outputs": [
    {
     "data": {
      "text/plain": "0          0.000000\n1          0.536823\n2          1.644652\n3          3.925395\n4          3.144364\n           ...     \n1209    1255.809589\n1210    1220.713091\n1211    1257.802877\n1212    1223.633297\n1213    1258.100249\nLength: 1214, dtype: float64"
     },
     "execution_count": 133,
     "metadata": {},
     "output_type": "execute_result"
    }
   ],
   "source": [
    "sojourn_time\n"
   ],
   "metadata": {
    "collapsed": false,
    "pycharm": {
     "name": "#%%\n"
    }
   }
  },
  {
   "cell_type": "code",
   "execution_count": 134,
   "outputs": [
    {
     "ename": "SyntaxError",
     "evalue": "invalid syntax (1903466320.py, line 1)",
     "output_type": "error",
     "traceback": [
      "\u001B[0;36m  Input \u001B[0;32mIn [134]\u001B[0;36m\u001B[0m\n\u001B[0;31m    warmed_sojourn_time = sojourn_time[range(1000:4000)]\u001B[0m\n\u001B[0m                                                 ^\u001B[0m\n\u001B[0;31mSyntaxError\u001B[0m\u001B[0;31m:\u001B[0m invalid syntax\n"
     ]
    }
   ],
   "source": [
    "warmed_sojourn_time = sojourn_time[]\n"
   ],
   "metadata": {
    "collapsed": false,
    "pycharm": {
     "name": "#%%\n"
    }
   }
  },
  {
   "cell_type": "code",
   "execution_count": null,
   "outputs": [],
   "source": [],
   "metadata": {
    "collapsed": false,
    "pycharm": {
     "name": "#%%\n"
    }
   }
  }
 ],
 "metadata": {
  "kernelspec": {
   "display_name": "Python 3",
   "language": "python",
   "name": "python3"
  },
  "language_info": {
   "codemirror_mode": {
    "name": "ipython",
    "version": 2
   },
   "file_extension": ".py",
   "mimetype": "text/x-python",
   "name": "python",
   "nbconvert_exporter": "python",
   "pygments_lexer": "ipython2",
   "version": "2.7.6"
  }
 },
 "nbformat": 4,
 "nbformat_minor": 0
}