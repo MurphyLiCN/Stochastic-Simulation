{
 "cells": [
  {
   "cell_type": "code",
   "execution_count": 1,
   "metadata": {
    "collapsed": true,
    "pycharm": {
     "name": "#%%\n"
    }
   },
   "outputs": [],
   "source": [
    "import pandas as pd\n",
    "import numpy as np\n",
    "import matplotlib.pyplot as plt\n"
   ]
  },
  {
   "cell_type": "markdown",
   "source": [
    "## 第一问"
   ],
   "metadata": {
    "collapsed": false,
    "pycharm": {
     "name": "#%% md\n"
    }
   }
  },
  {
   "cell_type": "code",
   "execution_count": 2,
   "outputs": [],
   "source": [
    "# 初始化\n",
    "customer_in = pd.Series([0])\n",
    "customer_out = pd.Series([0])\n",
    "station1 = 0\n",
    "station2 = 0\n",
    "start_customer = 0\n",
    "finish_customer = 0\n",
    "clock = 0\n",
    "\n",
    "# 生成第一个事件\n",
    "next_arrival = np.random.exponential(1/1.8)\n",
    "next_station1_1 = 1e10\n",
    "next_station1_2 = 1e10\n",
    "next_station2 = 1e10"
   ],
   "metadata": {
    "collapsed": false,
    "pycharm": {
     "name": "#%%\n"
    }
   }
  },
  {
   "cell_type": "code",
   "execution_count": 3,
   "outputs": [],
   "source": [
    "# 循环直到第4000个客户离开\n",
    "while finish_customer < 4000:\n",
    "    # 新的时间为下一个事件\n",
    "    clock = min(next_station1_1,next_station1_2,next_station2,next_arrival)\n",
    "\n",
    "    # 判断哪个事件发生了，并做出相应反应\n",
    "    if next_arrival == clock:\n",
    "        station1 += 1\n",
    "        start_customer += 1\n",
    "        # 记录第i个顾客第进入时间\n",
    "        customer_in[start_customer] = clock\n",
    "    elif next_station1_1 == clock:\n",
    "        station1 -= 1\n",
    "        station2 += 1\n",
    "    elif next_station1_2 == clock:\n",
    "        station1 -= 1\n",
    "        station2 += 1\n",
    "    elif next_station2 == clock:\n",
    "        station2 -= 1\n",
    "        finish_customer += 1\n",
    "        # 记录第i个顾客的离开时间\n",
    "        customer_out[finish_customer] = clock\n",
    "\n",
    "\n",
    "\n",
    "\n",
    "\n",
    "    #更新事件（无记忆性）\n",
    "    next_arrival = clock + np.random.exponential(1/1.8)\n",
    "\n",
    "    if station1 >= 2:\n",
    "        next_station1_1 = clock + np.random.exponential(1)\n",
    "        next_station1_2 = clock + np.random.exponential(1)\n",
    "    elif station1 > 0:\n",
    "        next_station1_1 = clock + np.random.exponential(1)\n",
    "        next_station1_2 = clock + 1e10\n",
    "    else:\n",
    "        next_station1_1 = clock + 1e10\n",
    "        next_station1_2 = clock + 1e10\n",
    "\n",
    "    if station2 > 0:\n",
    "        next_station2 = clock + np.random.exponential(1/2)\n",
    "    else:\n",
    "        next_station2 = clock + 1e10\n"
   ],
   "metadata": {
    "collapsed": false,
    "pycharm": {
     "name": "#%%\n"
    }
   }
  },
  {
   "cell_type": "markdown",
   "source": [
    "## 第二问"
   ],
   "metadata": {
    "collapsed": false,
    "pycharm": {
     "name": "#%% md\n"
    }
   }
  },
  {
   "cell_type": "code",
   "execution_count": 4,
   "outputs": [
    {
     "data": {
      "text/plain": "(array([218., 589., 683., 480., 368., 324., 209.,  59.,  45.,  25.]),\n array([ 0.09289441,  2.06327744,  4.03366047,  6.00404349,  7.97442652,\n         9.94480955, 11.91519258, 13.88557561, 15.85595864, 17.82634167,\n        19.7967247 ]),\n <BarContainer object of 10 artists>)"
     },
     "execution_count": 4,
     "metadata": {},
     "output_type": "execute_result"
    },
    {
     "data": {
      "text/plain": "<Figure size 640x480 with 1 Axes>",
      "image/png": "[encoded data removed]"
     },
     "metadata": {},
     "output_type": "display_data"
    }
   ],
   "source": [
    "sojourn_time = customer_out - customer_in\n",
    "warmed_sojourn_time_2 = sojourn_time[1000:4000]\n",
    "plt.hist(warmed_sojourn_time_2)"
   ],
   "metadata": {
    "collapsed": false,
    "pycharm": {
     "name": "#%%\n"
    }
   }
  },
  {
   "cell_type": "code",
   "execution_count": 5,
   "outputs": [
    {
     "data": {
      "text/plain": "count    3000.000000\nmean        6.823223\nstd         3.831312\nmin         0.092894\n25%         3.861921\n50%         6.043622\n75%         9.384283\nmax        19.796725\ndtype: float64"
     },
     "execution_count": 5,
     "metadata": {},
     "output_type": "execute_result"
    }
   ],
   "source": [
    "warmed_sojourn_time_2.describe()"
   ],
   "metadata": {
    "collapsed": false,
    "pycharm": {
     "name": "#%%\n"
    }
   }
  },
  {
   "cell_type": "markdown",
   "source": [
    "## 第三问"
   ],
   "metadata": {
    "collapsed": false,
    "pycharm": {
     "name": "#%% md\n"
    }
   }
  },
  {
   "cell_type": "code",
   "execution_count": 83,
   "outputs": [],
   "source": [
    "def lambda_exp1_norm0515(Lambda=1.8):\n",
    "    # 初始化\n",
    "    customer_in = pd.Series([0])\n",
    "    customer_out = pd.Series([0])\n",
    "    station1 = 0\n",
    "    station2 = 0\n",
    "    start_customer = 0\n",
    "    finish_customer = 0\n",
    "    clock = 0\n",
    "\n",
    "    # 生成第一个事件\n",
    "    next_arrival = np.random.exponential(1/Lambda)\n",
    "    next_station1_1 = 1e10\n",
    "    next_station1_2 = 1e10\n",
    "    next_station2 = 1e10\n",
    "\n",
    "    # 循环直到第4000个客户离开\n",
    "    while finish_customer < 4000:\n",
    "        # 新的时间为下一个事件\n",
    "        clock = min(next_station1_1,next_station1_2,next_station2,next_arrival)\n",
    "\n",
    "        # 判断station2的情况\n",
    "        new_station2_normal = False\n",
    "\n",
    "        # 判断哪个事件发生了，并做出相应反应\n",
    "        if next_arrival == clock:\n",
    "            station1 += 1\n",
    "            start_customer += 1\n",
    "            # 记录第i个顾客第进入时间\n",
    "            customer_in[start_customer] = clock\n",
    "\n",
    "        elif next_station1_1 == clock:\n",
    "            station1 -= 1\n",
    "            station2 += 1\n",
    "            # 判断station2的情况\n",
    "            if station2 == 1:\n",
    "                new_station2_normal = True\n",
    "\n",
    "        elif next_station1_2 == clock:\n",
    "            station1 -= 1\n",
    "            station2 += 1\n",
    "            # 判断station2的情况\n",
    "            if station2 == 1:\n",
    "                new_station2_normal = True\n",
    "\n",
    "        elif next_station2 == clock:\n",
    "            station2 -= 1\n",
    "            if station2 > 0:\n",
    "                new_station2_normal = True\n",
    "            finish_customer += 1\n",
    "            # 记录第i个顾客的离开时间\n",
    "            customer_out[finish_customer] = clock\n",
    "\n",
    "\n",
    "\n",
    "\n",
    "\n",
    "        #更新事件（无记忆性）\n",
    "        next_arrival = clock + np.random.exponential(1/Lambda)\n",
    "\n",
    "        if station1 >= 2:\n",
    "            next_station1_1 = clock + np.random.exponential(1)\n",
    "            next_station1_2 = clock + np.random.exponential(1)\n",
    "        elif station1 > 0:\n",
    "            next_station1_1 = clock + np.random.exponential(1)\n",
    "            next_station1_2 = clock + 1e10\n",
    "        else:\n",
    "            next_station1_1 = clock + 1e10\n",
    "            next_station1_2 = clock + 1e10\n",
    "\n",
    "        # 更新station2的情况\n",
    "        if new_station2_normal:\n",
    "            next_station2_add = np.random.normal(0.5,1.5)\n",
    "            while next_station2_add <= 0:\n",
    "                next_station2_add = np.random.normal(0.5,1.5)\n",
    "            next_station2 = clock + next_station2_add\n",
    "\n",
    "        if station2 == 0 :\n",
    "            next_station2 = clock + 2e10\n",
    "\n",
    "    # 计算输出\n",
    "    sojourn_time = customer_out - customer_in\n",
    "    warmed_sojourn_time = sojourn_time[1000:4000]\n",
    "\n",
    "    return  warmed_sojourn_time"
   ],
   "metadata": {
    "collapsed": false,
    "pycharm": {
     "name": "#%%\n"
    }
   }
  },
  {
   "cell_type": "code",
   "execution_count": 84,
   "outputs": [
    {
     "data": {
      "text/plain": "(array([320., 304., 274., 316., 304., 299., 296., 299., 291., 297.]),\n array([ 841.03871367, 1094.43457355, 1347.83043343, 1601.22629331,\n        1854.62215319, 2108.01801306, 2361.41387294, 2614.80973282,\n        2868.2055927 , 3121.60145258, 3374.99731246]),\n <BarContainer object of 10 artists>)"
     },
     "execution_count": 84,
     "metadata": {},
     "output_type": "execute_result"
    },
    {
     "data": {
      "text/plain": "<Figure size 640x480 with 1 Axes>",
      "image/png": "[encoded data removed]"
     },
     "metadata": {},
     "output_type": "display_data"
    }
   ],
   "source": [
    "warmed_sojourn_time_3 = lambda_exp1_norm0515(1.8)\n",
    "plt.hist(warmed_sojourn_time_3)"
   ],
   "metadata": {
    "collapsed": false,
    "pycharm": {
     "name": "#%%\n"
    }
   }
  },
  {
   "cell_type": "code",
   "execution_count": 73,
   "outputs": [
    {
     "data": {
      "text/plain": "count    3000.000000\nmean     2113.900618\nstd       742.796528\nmin       866.722150\n25%      1472.011689\n50%      2103.253326\n75%      2744.104856\nmax      3396.692653\ndtype: float64"
     },
     "execution_count": 73,
     "metadata": {},
     "output_type": "execute_result"
    }
   ],
   "source": [
    "warmed_sojourn_time_3.describe()\n"
   ],
   "metadata": {
    "collapsed": false,
    "pycharm": {
     "name": "#%%\n"
    }
   }
  },
  {
   "cell_type": "markdown",
   "source": [
    "## 第四问"
   ],
   "metadata": {
    "collapsed": false,
    "pycharm": {
     "name": "#%% md\n"
    }
   }
  },
  {
   "cell_type": "code",
   "execution_count": 74,
   "outputs": [
    {
     "name": "stderr",
     "output_type": "stream",
     "text": [
      "/var/folders/qj/s_39ngds10394t00jt5t0c4w0000gn/T/ipykernel_4741/901217226.py:1: FutureWarning: The default dtype for empty Series will be 'object' instead of 'float64' in a future version. Specify a dtype explicitly to silence this warning.\n",
      "  result_4 = pd.Series()\n"
     ]
    }
   ],
   "source": [
    "result_4 = pd.Series()\n",
    "for Lambda in np.arange(0.05,2,0.05):\n",
    "    warmed_sojourn_time_4 = lambda_exp1_norm0515(Lambda)\n",
    "    result_4[Lambda] = warmed_sojourn_time_4.mean()\n"
   ],
   "metadata": {
    "collapsed": false,
    "pycharm": {
     "name": "#%%\n"
    }
   }
  },
  {
   "cell_type": "code",
   "execution_count": 75,
   "outputs": [
    {
     "data": {
      "text/plain": "[<matplotlib.lines.Line2D at 0x16cc5c7f0>]"
     },
     "execution_count": 75,
     "metadata": {},
     "output_type": "execute_result"
    },
    {
     "data": {
      "text/plain": "<Figure size 640x480 with 1 Axes>",
      "image/png": "[encoded data removed]"
     },
     "metadata": {},
     "output_type": "display_data"
    }
   ],
   "source": [
    "plt.plot(result_4)\n"
   ],
   "metadata": {
    "collapsed": false,
    "pycharm": {
     "name": "#%%\n"
    }
   }
  },
  {
   "cell_type": "code",
   "execution_count": null,
   "outputs": [],
   "source": [],
   "metadata": {
    "collapsed": false,
    "pycharm": {
     "name": "#%%\n"
    }
   }
  }
 ],
 "metadata": {
  "kernelspec": {
   "display_name": "Python 3",
   "language": "python",
   "name": "python3"
  },
  "language_info": {
   "codemirror_mode": {
    "name": "ipython",
    "version": 2
   },
   "file_extension": ".py",
   "mimetype": "text/x-python",
   "name": "python",
   "nbconvert_exporter": "python",
   "pygments_lexer": "ipython2",
   "version": "2.7.6"
  }
 },
 "nbformat": 4,
 "nbformat_minor": 0
}