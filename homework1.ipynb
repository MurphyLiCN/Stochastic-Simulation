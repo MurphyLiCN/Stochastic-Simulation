{
 "cells": [
  {
   "cell_type": "code",
   "execution_count": 1,
   "metadata": {
    "collapsed": true,
    "pycharm": {
     "name": "#%%\n"
    }
   },
   "outputs": [],
   "source": [
    "import pandas as pd\n",
    "import numpy as np\n",
    "import matplotlib.pyplot as plt\n"
   ]
  },
  {
   "cell_type": "code",
   "execution_count": 7,
   "outputs": [],
   "source": [
    "customer_in = pd.Series([0])\n",
    "customer_out = pd.Series([0])\n",
    "station1 = 0\n",
    "station2 = 0\n",
    "start_customer = 0\n",
    "finish_customer = 0\n",
    "clock = 0\n",
    "\n",
    "next_arrival = np.random.exponential(1.8)\n",
    "next_station1_1 = 1e10\n",
    "next_station1_2 = 1e10\n",
    "next_station2 = 1e10"
   ],
   "metadata": {
    "collapsed": false,
    "pycharm": {
     "name": "#%%\n"
    }
   }
  },
  {
   "cell_type": "code",
   "execution_count": 8,
   "outputs": [],
   "source": [
    "#for i in range(4000):\n",
    "while finish_customer < 4000:\n",
    "    clock = min(next_station1_1,next_station1_2,next_station2,next_arrival)\n",
    "\n",
    "    if next_arrival == clock:\n",
    "        station1 += 1\n",
    "        start_customer += 1\n",
    "        customer_in[start_customer] = clock\n",
    "    elif next_station1_1 == clock:\n",
    "        station1 -= 1\n",
    "        station2 += 1\n",
    "    elif next_station1_2 == clock:\n",
    "        station1 -= 1\n",
    "        station2 += 1\n",
    "    elif next_station2 == clock:\n",
    "        station2 -= 1\n",
    "        finish_customer += 1\n",
    "        customer_out[finish_customer] = clock\n",
    "\n",
    "        '''\n",
    "        next_station2_add = np.random.normal(0.5,1.5)\n",
    "        while next_station2_add <= 0:\n",
    "            next_station2_add = np.random.normal(0.5,1.5)\n",
    "        next_station2 = next_station2 + next_station2_add\n",
    "        '''\n",
    "\n",
    "\n",
    "\n",
    "    next_arrival = clock + np.random.exponential(1.8)\n",
    "\n",
    "    if station1 >= 2:\n",
    "        next_station1_1 = clock + np.random.exponential(1)\n",
    "        next_station1_2 = clock + np.random.exponential(1)\n",
    "    elif station1 > 0:\n",
    "        next_station1_1 = clock + np.random.exponential(1)\n",
    "        next_station1_2 = clock + 1e10\n",
    "    else:\n",
    "        next_station1_1 = clock + 1e10\n",
    "        next_station1_2 = clock + 1e10\n",
    "\n",
    "    if station2 > 0:\n",
    "        next_station2 = clock + np.random.exponential(1/2)\n",
    "    else:\n",
    "        next_station2 = clock + 1e10\n"
   ],
   "metadata": {
    "collapsed": false,
    "pycharm": {
     "name": "#%%\n"
    }
   }
  },
  {
   "cell_type": "code",
   "execution_count": 9,
   "outputs": [],
   "source": [
    "sojourn_time = customer_out - customer_in\n",
    "warmed_sojourn_time = sojourn_time[1000:4000]"
   ],
   "metadata": {
    "collapsed": false,
    "pycharm": {
     "name": "#%%\n"
    }
   }
  },
  {
   "cell_type": "code",
   "execution_count": 11,
   "outputs": [
    {
     "data": {
      "text/plain": "(array([544., 909., 705., 414., 243., 102.,  56.,  15.,   9.,   3.]),\n array([0.01996197, 0.75330333, 1.4866447 , 2.21998606, 2.95332743,\n        3.68666879, 4.42001015, 5.15335152, 5.88669288, 6.62003425,\n        7.35337561]),\n <BarContainer object of 10 artists>)"
     },
     "execution_count": 11,
     "metadata": {},
     "output_type": "execute_result"
    },
    {
     "data": {
      "text/plain": "<Figure size 640x480 with 1 Axes>",
      "image/png": "[encoded data removed]"
     },
     "metadata": {},
     "output_type": "display_data"
    }
   ],
   "source": [
    "plt.hist(warmed_sojourn_time)\n"
   ],
   "metadata": {
    "collapsed": false,
    "pycharm": {
     "name": "#%%\n"
    }
   }
  },
  {
   "cell_type": "code",
   "execution_count": 13,
   "outputs": [
    {
     "data": {
      "text/plain": "0.4361296860292899"
     },
     "execution_count": 13,
     "metadata": {},
     "output_type": "execute_result"
    }
   ],
   "source": [
    "np.random.normal(0.5,0.15)\n"
   ],
   "metadata": {
    "collapsed": false,
    "pycharm": {
     "name": "#%%\n"
    }
   }
  },
  {
   "cell_type": "code",
   "execution_count": null,
   "outputs": [],
   "source": [],
   "metadata": {
    "collapsed": false,
    "pycharm": {
     "name": "#%%\n"
    }
   }
  }
 ],
 "metadata": {
  "kernelspec": {
   "display_name": "Python 3",
   "language": "python",
   "name": "python3"
  },
  "language_info": {
   "codemirror_mode": {
    "name": "ipython",
    "version": 2
   },
   "file_extension": ".py",
   "mimetype": "text/x-python",
   "name": "python",
   "nbconvert_exporter": "python",
   "pygments_lexer": "ipython2",
   "version": "2.7.6"
  }
 },
 "nbformat": 4,
 "nbformat_minor": 0
}