{
 "cells": [
  {
   "cell_type": "code",
   "execution_count": null,
   "metadata": {},
   "outputs": [],
   "source": [
    "%reset"
   ]
  },
  {
   "cell_type": "code",
   "execution_count": null,
   "metadata": {},
   "outputs": [],
   "source": [
    "import pickle\n",
    "def save_variable(v,filename):\n",
    "    f=open(filename,'wb')\n",
    "    pickle.dump(v,f)\n",
    "    f.close()\n",
    "    return filename\n",
    "\n",
    "def load_variavle(filename):\n",
    "    f=open(filename,'rb')\n",
    "    r=pickle.load(f)\n",
    "    f.close()\n",
    "    return r\n",
    "\n"
   ]
  },
  {
   "cell_type": "code",
   "execution_count": null,
   "metadata": {},
   "outputs": [],
   "source": [
    "# 加载所需的库\n",
    "import pandas as pd\n",
    "import numpy as np\n",
    "import matplotlib.pyplot as plt\n",
    "import datetime\n",
    "\n",
    "np.random.seed(2022)"
   ]
  },
  {
   "cell_type": "code",
   "execution_count": null,
   "metadata": {},
   "outputs": [],
   "source": [
    "#已经跑好保存的结果，循环套循环挺慢的\n",
    "results = load_variavle('/Users/murphy/Documents/GitHub/Stochastic-Simulation/HW4/results.txt')"
   ]
  },
  {
   "cell_type": "code",
   "execution_count": 41,
   "metadata": {},
   "outputs": [
    {
     "name": "stdout",
     "output_type": "stream",
     "text": [
      "KN算法准确率为 1.0 平均需要的迭代次数为 6594.98 \n",
      " 利用预抽样标准化的Paulson算法准确率为 0.54 平均需要的迭代次数为 640.82 \n",
      " Zhong等（2020）中提出的Paulson算法准确率为 0.96 平均需要的迭代次数为 5478.9 \n",
      "\n"
     ]
    }
   ],
   "source": [
    "print('KN算法准确率为',np.mean(results.loc[0]==9),\n",
    "      '平均需要的迭代次数为',np.mean(results.loc[1]),\n",
    "      '\\n',\n",
    "      '利用预抽样标准化的Paulson算法准确率为',np.mean(results.loc[2]==9),\n",
    "      '平均需要的迭代次数为',np.mean(results.loc[3]),\n",
    "      '\\n',\n",
    "      'Zhong等（2020）中提出的Paulson算法准确率为',np.mean(results.loc[4]==9),\n",
    "      '平均需要的迭代次数为',np.mean(results.loc[5]),'\\n')"
   ]
  },
  {
   "cell_type": "code",
   "execution_count": null,
   "metadata": {},
   "outputs": [],
   "source": [
    "#参数\n",
    "I = np.arange(10)\n",
    "delta = 0.1\n",
    "alpha = 0.05\n",
    "mu = np.arange(1,11)/10\n",
    "sigma = np.power(np.arange(1,11),0.5)\n",
    "k = len(I)\n",
    "#Paulson\n",
    "Lambda = delta/2\n",
    "a = np.log((k-1)/alpha)*1/(delta-Lambda)\n",
    "#KN\n",
    "n_0 = 100\n",
    "eta =  (np.power(2*alpha/(k-1),-2/(n_0-1)) - 1)/2\n",
    "h_squire = 2*eta*(n_0-1)\n",
    "#PP\n",
    "h_squire_pp = h_squire/(4*(delta-Lambda))\n",
    "#样本方差\n",
    "S_squire = pd.DataFrame(index=range(10),columns=range(10))\n",
    "N_ij = pd.DataFrame(index=range(10),columns=range(10))"
   ]
  },
  {
   "cell_type": "code",
   "execution_count": null,
   "metadata": {},
   "outputs": [],
   "source": [
    "def Paulson_KN():\n",
    "    #初始化采样n_0个，用以计算样本均值与样本方差\n",
    "    X_Initialization = pd.DataFrame()\n",
    "    for i in I:\n",
    "        x = np.random.normal(loc=mu[i],scale=sigma[i],size=n_0)\n",
    "        x = pd.DataFrame(x).T\n",
    "        X_Initialization = pd.concat([X_Initialization,x])\n",
    "    X_Initialization.index = I\n",
    "    #计算样本均值与样本方差\n",
    "    for i in I:\n",
    "        x_i = X_Initialization.loc[i]\n",
    "        for l in I:\n",
    "            x_l = X_Initialization.loc[l]\n",
    "            x_il = x_i-x_l\n",
    "            s_il = np.var(x_il,ddof=1)\n",
    "            n_ij = np.floor(h_squire_pp*s_il/Lambda)+1\n",
    "            S_squire.loc[i,l] = s_il\n",
    "            N_ij.loc[i,l] = n_ij\n",
    "        s_ii = np.var(x_i,ddof=1)\n",
    "        S_squire.loc[i,i] = s_ii\n",
    "    S_diagnoal = np.power(np.diagonal(S_squire),0.5)\n",
    "    X_bar = np.mean(X_Initialization,axis=1)\n",
    "    N = np.max(N_ij,axis=1)\n",
    "    #Paulson算法（简单的拓展）\n",
    "    I_Paulson = I.copy()\n",
    "    r_Paulson = 0\n",
    "    X_Paulson = pd.DataFrame(index=range(10))\n",
    "    while len(I_Paulson)>1 :\n",
    "        r_Paulson += 1\n",
    "        X_Paulson[r_Paulson]=\\\n",
    "            np.random.normal(loc=mu,scale = sigma)/S_diagnoal + X_bar*(1-1/S_diagnoal)\n",
    "        X_bar_r = np.mean(X_Paulson,axis=1)\n",
    "        I_old = I_Paulson.copy()\n",
    "        I_Paulson = list()\n",
    "        for l in I_old:\n",
    "            if X_bar_r[l] >= max(X_bar_r)-max(0,a/r_Paulson-Lambda):\n",
    "                I_Paulson.append(l)\n",
    "    #KN算法\n",
    "    I_KN = I.copy()\n",
    "    r_KN = 0\n",
    "    X_KN = pd.DataFrame(index=range(10))\n",
    "    while len(I_KN)>1 :\n",
    "        r_KN += 1\n",
    "        X_KN[r_KN]=np.random.normal(loc=mu,scale = sigma)\n",
    "        X_bar_r = np.mean(X_KN,axis=1)\n",
    "        I_old = I_KN.copy()\n",
    "        I_KN = list()\n",
    "        for i in I_old:\n",
    "            keep_i = True\n",
    "            for l in I_old:\n",
    "                W_il_r = max(0,\n",
    "                             delta/(2*r_KN)*(h_squire*S_squire.loc[i,l]/np.power(delta,2)-r_KN))\n",
    "                if not X_bar_r[i]>=X_bar_r[l]-W_il_r:\n",
    "                    keep_i = False\n",
    "                    break\n",
    "            if keep_i:\n",
    "                I_KN.append(i)\n",
    "\n",
    "    #Paulson算法（来自论文Speeding Up Paulson’s Procedure for Large-Scale Problem Using Parallel Computing）\n",
    "    I_PP = I.copy()\n",
    "    t_PP = 0\n",
    "    X_PP = pd.DataFrame(index=range(10))\n",
    "    while len(I_PP)>1 and t_PP<np.max(N) :\n",
    "        t_PP += 1\n",
    "        X_PP[t_PP]=np.random.normal(loc=mu,scale = sigma)\n",
    "        X_bar_t = np.mean(X_PP,axis=1)\n",
    "        I_old = I_PP.copy()\n",
    "        I_PP = list()\n",
    "        for i in I_old:\n",
    "            keep_i = True\n",
    "            for j in I_old:\n",
    "                Z_ij_t = t_PP*(X_bar_t[i]-X_bar_t[j])\n",
    "                if not Z_ij_t>=-h_squire_pp*S_squire.loc[i,j]+Lambda*t_PP:\n",
    "                    keep_i = False\n",
    "                    break\n",
    "            if keep_i:\n",
    "                I_PP.append(i)\n",
    "\n",
    "    if len(I_PP)>1:\n",
    "        I_PP = list(np.argmax(X_bar_t))\n",
    "    #输出最终结果与循环次数\n",
    "    return I_KN[0],r_KN,I_Paulson[0],r_Paulson,I_PP[0],t_PP"
   ]
  },
  {
   "cell_type": "code",
   "execution_count": null,
   "metadata": {},
   "outputs": [],
   "source": [
    "result = pd.DataFrame()\n",
    "for i in range(100):\n",
    "    print(i)\n",
    "    once = Paulson_KN()\n",
    "    once = pd.DataFrame(once)\n",
    "    result[i] = once\n"
   ]
  },
  {
   "cell_type": "code",
   "execution_count": null,
   "metadata": {},
   "outputs": [],
   "source": [
    "filename = save_variable(result,'/Users/murphy/Documents/GitHub/Stochastic-Simulation/HW4/results.txt')"
   ]
  },
  {
   "cell_type": "code",
   "execution_count": 34,
   "metadata": {},
   "outputs": [
    {
     "data": {
      "text/plain": [
       "(array([  0.,   0.,   0.,   0.,   0., 100.,   0.,   0.,   0.,   0.]),\n",
       " array([8.5, 8.6, 8.7, 8.8, 8.9, 9. , 9.1, 9.2, 9.3, 9.4, 9.5]),\n",
       " <BarContainer object of 10 artists>)"
      ]
     },
     "execution_count": 34,
     "metadata": {},
     "output_type": "execute_result"
    },
    {
     "data": {
      "image/png": "[encoded data removed]",
      "text/plain": [
       "<Figure size 640x480 with 1 Axes>"
      ]
     },
     "metadata": {},
     "output_type": "display_data"
    }
   ],
   "source": [
    "plt.hist(results.loc[0])"
   ]
  },
  {
   "cell_type": "code",
   "execution_count": 35,
   "metadata": {},
   "outputs": [
    {
     "data": {
      "text/plain": [
       "(array([ 4., 16., 29., 18., 17.,  8.,  3.,  3.,  0.,  2.]),\n",
       " array([ 1986. ,  3333.6,  4681.2,  6028.8,  7376.4,  8724. , 10071.6,\n",
       "        11419.2, 12766.8, 14114.4, 15462. ]),\n",
       " <BarContainer object of 10 artists>)"
      ]
     },
     "execution_count": 35,
     "metadata": {},
     "output_type": "execute_result"
    },
    {
     "data": {
      "image/png": "[encoded data removed]",
      "text/plain": [
       "<Figure size 640x480 with 1 Axes>"
      ]
     },
     "metadata": {},
     "output_type": "display_data"
    }
   ],
   "source": [
    "plt.hist(results.loc[1])\n"
   ]
  },
  {
   "cell_type": "code",
   "execution_count": 23,
   "metadata": {},
   "outputs": [
    {
     "data": {
      "text/plain": [
       "(array([ 1.,  0.,  5.,  0.,  0., 13.,  0., 27.,  0., 54.]),\n",
       " array([5. , 5.4, 5.8, 6.2, 6.6, 7. , 7.4, 7.8, 8.2, 8.6, 9. ]),\n",
       " <BarContainer object of 10 artists>)"
      ]
     },
     "execution_count": 23,
     "metadata": {},
     "output_type": "execute_result"
    },
    {
     "data": {
      "image/png": "[encoded data removed]",
      "text/plain": [
       "<Figure size 640x480 with 1 Axes>"
      ]
     },
     "metadata": {},
     "output_type": "display_data"
    }
   ],
   "source": [
    "plt.hist(result.loc[2])\n"
   ]
  },
  {
   "cell_type": "code",
   "execution_count": 24,
   "metadata": {},
   "outputs": [
    {
     "data": {
      "text/plain": [
       "(array([18., 25., 18., 17.,  7.,  3.,  3.,  4.,  3.,  2.]),\n",
       " array([ 138. ,  305.5,  473. ,  640.5,  808. ,  975.5, 1143. , 1310.5,\n",
       "        1478. , 1645.5, 1813. ]),\n",
       " <BarContainer object of 10 artists>)"
      ]
     },
     "execution_count": 24,
     "metadata": {},
     "output_type": "execute_result"
    },
    {
     "data": {
      "image/png": "[encoded data removed]",
      "text/plain": [
       "<Figure size 640x480 with 1 Axes>"
      ]
     },
     "metadata": {},
     "output_type": "display_data"
    }
   ],
   "source": [
    "plt.hist(result.loc[3])\n"
   ]
  },
  {
   "cell_type": "code",
   "execution_count": 25,
   "metadata": {},
   "outputs": [
    {
     "data": {
      "text/plain": [
       "(array([ 4.,  0.,  0.,  0.,  0.,  0.,  0.,  0.,  0., 96.]),\n",
       " array([8. , 8.1, 8.2, 8.3, 8.4, 8.5, 8.6, 8.7, 8.8, 8.9, 9. ]),\n",
       " <BarContainer object of 10 artists>)"
      ]
     },
     "execution_count": 25,
     "metadata": {},
     "output_type": "execute_result"
    },
    {
     "data": {
      "image/png": "[encoded data removed]",
      "text/plain": [
       "<Figure size 640x480 with 1 Axes>"
      ]
     },
     "metadata": {},
     "output_type": "display_data"
    }
   ],
   "source": [
    "plt.hist(result.loc[4])"
   ]
  },
  {
   "cell_type": "code",
   "execution_count": 26,
   "metadata": {},
   "outputs": [
    {
     "data": {
      "text/plain": [
       "(array([ 1.,  5., 10., 15., 20., 17., 12.,  8.,  8.,  4.]),\n",
       " array([1705. , 2445.4, 3185.8, 3926.2, 4666.6, 5407. , 6147.4, 6887.8,\n",
       "        7628.2, 8368.6, 9109. ]),\n",
       " <BarContainer object of 10 artists>)"
      ]
     },
     "execution_count": 26,
     "metadata": {},
     "output_type": "execute_result"
    },
    {
     "data": {
      "image/png": "[encoded data removed]",
      "text/plain": [
       "<Figure size 640x480 with 1 Axes>"
      ]
     },
     "metadata": {},
     "output_type": "display_data"
    }
   ],
   "source": [
    "plt.hist(result.loc[5])"
   ]
  },
  {
   "cell_type": "code",
   "execution_count": null,
   "metadata": {},
   "outputs": [],
   "source": []
  }
 ],
 "metadata": {
  "kernelspec": {
   "display_name": "Python 3 (ipykernel)",
   "language": "python",
   "name": "python3"
  },
  "language_info": {
   "codemirror_mode": {
    "name": "ipython",
    "version": 3
   },
   "file_extension": ".py",
   "mimetype": "text/x-python",
   "name": "python",
   "nbconvert_exporter": "python",
   "pygments_lexer": "ipython3",
   "version": "3.9.13"
  }
 },
 "nbformat": 4,
 "nbformat_minor": 1
}
