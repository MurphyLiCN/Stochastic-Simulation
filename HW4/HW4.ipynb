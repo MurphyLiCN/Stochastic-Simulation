{
 "cells": [
  {
   "cell_type": "code",
   "execution_count": 55,
   "outputs": [],
   "source": [
    "%reset"
   ],
   "metadata": {
    "collapsed": false
   }
  },
  {
   "cell_type": "code",
   "execution_count": 56,
   "metadata": {
    "collapsed": true
   },
   "outputs": [],
   "source": [
    "# 加载所需的库\n",
    "import pandas as pd\n",
    "import numpy as np\n",
    "import matplotlib.pyplot as plt\n",
    "import datetime\n",
    "\n",
    "np.random.seed(2022)"
   ]
  },
  {
   "cell_type": "code",
   "execution_count": 76,
   "outputs": [],
   "source": [
    "#参数\n",
    "I = np.arange(10)\n",
    "delta = 0.1\n",
    "alpha = 0.05\n",
    "mu = np.arange(1,11)/10\n",
    "sigma = np.power(np.arange(1,11),0.5)\n",
    "k = len(I)\n",
    "#Paulson\n",
    "Lambda = delta/2\n",
    "a = np.log((k-1)/alpha)*1/(delta-Lambda)\n",
    "#KN\n",
    "n_0 = 100\n",
    "eta =  (np.power(2*alpha/(k-1),-2/(n_0-1)) - 1)/2\n",
    "h_squire = 2*eta*(n_0-1)\n",
    "#样本方差\n",
    "S_squire = pd.DataFrame(index=range(10),columns=range(10))"
   ],
   "metadata": {
    "collapsed": false
   }
  },
  {
   "cell_type": "code",
   "execution_count": 91,
   "outputs": [],
   "source": [
    "def Paulson_KN():\n",
    "    #初始化采样n_0个，用以计算样本均值与样本方差\n",
    "    X_Initialization = pd.DataFrame()\n",
    "    for i in I:\n",
    "        x = np.random.normal(loc=mu[i],scale=sigma[i],size=n_0)\n",
    "        x = pd.DataFrame(x).T\n",
    "        X_Initialization = pd.concat([X_Initialization,x])\n",
    "    X_Initialization.index = I\n",
    "    #计算样本均值与样本方差\n",
    "    for i in I:\n",
    "        x_i = X_Initialization.loc[i]\n",
    "        for l in I:\n",
    "            x_l = X_Initialization.loc[l]\n",
    "            x_il = x_i-x_l\n",
    "            s_il = np.var(x_il,ddof=1)\n",
    "            S_squire.loc[i,l] = s_il\n",
    "        s_ii = np.var(x_i,ddof=1)\n",
    "        S_squire.loc[i,i] = s_ii\n",
    "    S_diagnoal = np.power(np.diagonal(S_squire),0.5)\n",
    "    X_bar = np.mean(X_Initialization,axis=1)\n",
    "    #Paulson算法\n",
    "    I_Paulson = I.copy()\n",
    "    r_Paulson = 0\n",
    "    X_Paulson = pd.DataFrame(index=range(10))\n",
    "    while len(I_Paulson)>1 :\n",
    "        r_Paulson += 1\n",
    "        X_Paulson[r_Paulson]=\\\n",
    "            np.random.normal(loc=mu,scale = sigma)/S_diagnoal + X_bar*(1-1/S_diagnoal)\n",
    "        X_bar_r = np.mean(X_Paulson,axis=1)\n",
    "        I_old = I_Paulson.copy()\n",
    "        I_Paulson = list()\n",
    "        for l in I_old:\n",
    "            if X_bar_r[l] >= max(X_bar_r)-max(0,a/r_Paulson-Lambda):\n",
    "                I_Paulson.append(l)\n",
    "    #KN算法\n",
    "    I_KN = I.copy()\n",
    "    r_KN = 0\n",
    "    X_KN = pd.DataFrame(index=range(10))\n",
    "    while len(I_KN)>1 :\n",
    "        r_KN += 1\n",
    "        X_KN[r_KN]=np.random.normal(loc=mu,scale = sigma)\n",
    "        X_bar_r = np.mean(X_KN,axis=1)\n",
    "        I_old = I_KN.copy()\n",
    "        I_KN = list()\n",
    "        for i in I_old:\n",
    "            keep_i = True\n",
    "            for l in I_old:\n",
    "                W_il_r = max(0,\n",
    "                             delta/(2*r_KN)*(h_squire*S_squire.loc[i,l]/np.power(delta,2)-r_KN))\n",
    "                if not X_bar_r[i]>=X_bar_r[l]-W_il_r:\n",
    "                    keep_i = False\n",
    "            if keep_i:\n",
    "                I_KN.append(i)\n",
    "    #输出最终结果与循环次数\n",
    "    return I_KN[0],r_KN,I_Paulson[0],r_Paulson"
   ],
   "metadata": {
    "collapsed": false
   }
  },
  {
   "cell_type": "code",
   "execution_count": 92,
   "outputs": [
    {
     "name": "stdout",
     "output_type": "stream",
     "text": [
      "0\n",
      "1\n",
      "2\n",
      "3\n",
      "4\n",
      "5\n",
      "6\n",
      "7\n",
      "8\n",
      "9\n",
      "10\n",
      "11\n",
      "12\n",
      "13\n",
      "14\n",
      "15\n",
      "16\n",
      "17\n",
      "18\n",
      "19\n",
      "20\n",
      "21\n",
      "22\n",
      "23\n",
      "24\n",
      "25\n",
      "26\n",
      "27\n",
      "28\n",
      "29\n",
      "30\n",
      "31\n",
      "32\n",
      "33\n",
      "34\n",
      "35\n",
      "36\n",
      "37\n",
      "38\n",
      "39\n",
      "40\n",
      "41\n",
      "42\n",
      "43\n",
      "44\n",
      "45\n",
      "46\n",
      "47\n",
      "48\n",
      "49\n",
      "50\n",
      "51\n",
      "52\n",
      "53\n",
      "54\n",
      "55\n",
      "56\n",
      "57\n",
      "58\n",
      "59\n",
      "60\n",
      "61\n",
      "62\n",
      "63\n",
      "64\n",
      "65\n",
      "66\n",
      "67\n",
      "68\n",
      "69\n",
      "70\n",
      "71\n",
      "72\n",
      "73\n",
      "74\n",
      "75\n",
      "76\n",
      "77\n",
      "78\n",
      "79\n",
      "80\n",
      "81\n",
      "82\n",
      "83\n",
      "84\n",
      "85\n",
      "86\n",
      "87\n",
      "88\n",
      "89\n",
      "90\n",
      "91\n",
      "92\n",
      "93\n",
      "94\n",
      "95\n",
      "96\n",
      "97\n",
      "98\n",
      "99\n"
     ]
    }
   ],
   "source": [
    "result = pd.DataFrame()\n",
    "for i in range(100):\n",
    "    print(i)\n",
    "    once = Paulson_KN()\n",
    "    once = pd.DataFrame(once)\n",
    "    result[i] = once\n"
   ],
   "metadata": {
    "collapsed": false
   }
  },
  {
   "cell_type": "code",
   "execution_count": 94,
   "outputs": [
    {
     "data": {
      "text/plain": "(array([ 2.,  0.,  0.,  0.,  0.,  0.,  0.,  0.,  0., 98.]),\n array([8. , 8.1, 8.2, 8.3, 8.4, 8.5, 8.6, 8.7, 8.8, 8.9, 9. ]),\n <BarContainer object of 10 artists>)"
     },
     "execution_count": 94,
     "metadata": {},
     "output_type": "execute_result"
    },
    {
     "data": {
      "text/plain": "<Figure size 640x480 with 1 Axes>",
      "image/png": "[encoded data removed]"
     },
     "metadata": {},
     "output_type": "display_data"
    }
   ],
   "source": [
    "plt.hist(result.loc[0])\n"
   ],
   "metadata": {
    "collapsed": false
   }
  },
  {
   "cell_type": "code",
   "execution_count": 95,
   "outputs": [
    {
     "data": {
      "text/plain": "(array([12., 13., 18., 21., 15.,  8.,  2.,  5.,  2.,  4.]),\n array([ 2587. ,  3555.6,  4524.2,  5492.8,  6461.4,  7430. ,  8398.6,\n         9367.2, 10335.8, 11304.4, 12273. ]),\n <BarContainer object of 10 artists>)"
     },
     "execution_count": 95,
     "metadata": {},
     "output_type": "execute_result"
    },
    {
     "data": {
      "text/plain": "<Figure size 640x480 with 1 Axes>",
      "image/png": "[encoded data removed]"
     },
     "metadata": {},
     "output_type": "display_data"
    }
   ],
   "source": [
    "plt.hist(result.loc[1])\n"
   ],
   "metadata": {
    "collapsed": false
   }
  },
  {
   "cell_type": "code",
   "execution_count": 96,
   "outputs": [
    {
     "data": {
      "text/plain": "(array([ 1.,  0.,  1.,  0.,  0., 16.,  0., 29.,  0., 53.]),\n array([5. , 5.4, 5.8, 6.2, 6.6, 7. , 7.4, 7.8, 8.2, 8.6, 9. ]),\n <BarContainer object of 10 artists>)"
     },
     "execution_count": 96,
     "metadata": {},
     "output_type": "execute_result"
    },
    {
     "data": {
      "text/plain": "<Figure size 640x480 with 1 Axes>",
      "image/png": "[encoded data removed]"
     },
     "metadata": {},
     "output_type": "display_data"
    }
   ],
   "source": [
    "plt.hist(result.loc[2])\n"
   ],
   "metadata": {
    "collapsed": false
   }
  },
  {
   "cell_type": "code",
   "execution_count": 97,
   "outputs": [
    {
     "data": {
      "text/plain": "(array([26., 18., 14., 10.,  9.,  6.,  3.,  4.,  8.,  2.]),\n array([ 146. ,  312.8,  479.6,  646.4,  813.2,  980. , 1146.8, 1313.6,\n        1480.4, 1647.2, 1814. ]),\n <BarContainer object of 10 artists>)"
     },
     "execution_count": 97,
     "metadata": {},
     "output_type": "execute_result"
    },
    {
     "data": {
      "text/plain": "<Figure size 640x480 with 1 Axes>",
      "image/png": "[encoded data removed]"
     },
     "metadata": {},
     "output_type": "display_data"
    }
   ],
   "source": [
    "plt.hist(result.loc[3])\n"
   ],
   "metadata": {
    "collapsed": false
   }
  },
  {
   "cell_type": "code",
   "execution_count": 98,
   "outputs": [],
   "source": [
    "import pickle\n",
    "def save_variable(v,filename):\n",
    "    f=open(filename,'wb')\n",
    "    pickle.dump(v,f)\n",
    "    f.close()\n",
    "    return filename\n",
    "\n",
    "def load_variavle(filename):\n",
    "    f=open(filename,'rb')\n",
    "    r=pickle.load(f)\n",
    "    f.close()\n",
    "    return r\n",
    "\n"
   ],
   "metadata": {
    "collapsed": false
   }
  },
  {
   "cell_type": "code",
   "execution_count": null,
   "outputs": [],
   "source": [
    "filename = save_variable(result,'/Users/murphy/Documents/GitHub/Stochastic-Simulation/HW4/results.txt')"
   ],
   "metadata": {
    "collapsed": false
   }
  },
  {
   "cell_type": "code",
   "execution_count": 99,
   "outputs": [],
   "source": [
    "results = load_variavle('/Users/murphy/Documents/GitHub/Stochastic-Simulation/HW4/results.txt')\n"
   ],
   "metadata": {
    "collapsed": false
   }
  }
 ],
 "metadata": {
  "kernelspec": {
   "display_name": "Python 3",
   "language": "python",
   "name": "python3"
  },
  "language_info": {
   "codemirror_mode": {
    "name": "ipython",
    "version": 2
   },
   "file_extension": ".py",
   "mimetype": "text/x-python",
   "name": "python",
   "nbconvert_exporter": "python",
   "pygments_lexer": "ipython2",
   "version": "2.7.6"
  }
 },
 "nbformat": 4,
 "nbformat_minor": 0
}
