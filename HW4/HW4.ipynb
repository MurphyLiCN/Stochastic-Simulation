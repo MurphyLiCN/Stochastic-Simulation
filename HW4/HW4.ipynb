{
 "cells": [
  {
   "cell_type": "code",
   "execution_count": 3,
   "outputs": [],
   "source": [
    "%reset"
   ],
   "metadata": {
    "collapsed": false
   }
  },
  {
   "cell_type": "code",
   "execution_count": 5,
   "metadata": {
    "collapsed": true
   },
   "outputs": [],
   "source": [
    "# 加载所需的库\n",
    "import pandas as pd\n",
    "import numpy as np\n",
    "import matplotlib.pyplot as plt\n",
    "import datetime\n",
    "\n",
    "np.random.seed(1)"
   ]
  },
  {
   "cell_type": "code",
   "execution_count": 24,
   "outputs": [],
   "source": [
    "delta = 0.1\n",
    "alpha = 0.05\n",
    "mu = np.arange(1,11)/10\n",
    "sigma = np.power(np.arange(1,11),0.5)\n",
    "x = np.random.normal(loc=mu,scale=sigma)\n",
    "I = np.arange(10)\n",
    "k = len(I)\n",
    "#Paulson\n",
    "Lambda = delta/2\n",
    "a = np.log((k-1)/alpha)*1/(delta-Lambda)\n",
    "#KN\n",
    "n_0 = 100\n",
    "eta =  (np.power(2*alpha/(k-1),-2/(n_0-1)) - 1)/2\n",
    "h_squire = 2*eta*(n_0-1)\n",
    "#\n",
    "S_squire = pd.DataFrame(index=range(10),columns=range(10))"
   ],
   "metadata": {
    "collapsed": false
   }
  },
  {
   "cell_type": "code",
   "execution_count": 22,
   "outputs": [
    {
     "data": {
      "text/plain": "2.302585092994046"
     },
     "execution_count": 22,
     "metadata": {},
     "output_type": "execute_result"
    }
   ],
   "source": [
    "np.log(10)\n"
   ],
   "metadata": {
    "collapsed": false
   }
  },
  {
   "cell_type": "code",
   "execution_count": null,
   "outputs": [],
   "source": [],
   "metadata": {
    "collapsed": false
   }
  }
 ],
 "metadata": {
  "kernelspec": {
   "display_name": "Python 3",
   "language": "python",
   "name": "python3"
  },
  "language_info": {
   "codemirror_mode": {
    "name": "ipython",
    "version": 2
   },
   "file_extension": ".py",
   "mimetype": "text/x-python",
   "name": "python",
   "nbconvert_exporter": "python",
   "pygments_lexer": "ipython2",
   "version": "2.7.6"
  }
 },
 "nbformat": 4,
 "nbformat_minor": 0
}
