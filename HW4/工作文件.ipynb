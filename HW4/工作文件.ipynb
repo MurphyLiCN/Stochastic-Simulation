{
 "cells": [
  {
   "cell_type": "code",
   "execution_count": null,
   "outputs": [],
   "source": [
    "X_Initialization = pd.DataFrame()\n",
    "for i in I:\n",
    "    x = np.random.normal(loc=mu[i],scale=sigma[i],size=n_0)\n",
    "    x = pd.DataFrame(x).T\n",
    "    X_Initialization = pd.concat([X_Initialization,x])\n",
    "X_Initialization.index = I"
   ],
   "metadata": {
    "collapsed": false
   }
  },
  {
   "cell_type": "code",
   "execution_count": null,
   "outputs": [],
   "source": [
    "for i in I:\n",
    "    x_i = X_Initialization.loc[i]\n",
    "    for l in I:\n",
    "        x_l = X_Initialization.loc[l]\n",
    "        x_il = x_i-x_l\n",
    "        s_il = np.var(x_il,ddof=1)\n",
    "        S_squire.loc[i,l] = s_il\n",
    "    s_ii = np.var(x_i,ddof=1)\n",
    "    S_squire.loc[i,i] = s_ii\n",
    "S_diagnoal = np.power(np.diagonal(S_squire),0.5)\n",
    "X_bar = np.mean(X_Initialization,axis=1)"
   ],
   "metadata": {
    "collapsed": false
   }
  },
  {
   "cell_type": "code",
   "execution_count": null,
   "metadata": {
    "collapsed": true
   },
   "outputs": [],
   "source": [
    "#Paulson\n",
    "I_Paulson = I.copy()\n",
    "r = 0\n",
    "X = pd.DataFrame(index=range(10))\n",
    "while r <3000 and len(I_Paulson)>1 :\n",
    "    r += 1\n",
    "    X[r]=np.random.normal(loc=mu,scale = sigma)/S_diagnoal + X_bar*(1-1/S_diagnoal)\n",
    "    X_bar_r = np.mean(X,axis=1)\n",
    "    I_old = I_Paulson.copy()\n",
    "    I_Paulson = list()\n",
    "    for l in I_old:\n",
    "        if X_bar_r[l] >= max(X_bar_r)-max(0,a/r-Lambda):\n",
    "            I_Paulson.append(l)"
   ]
  },
  {
   "cell_type": "code",
   "execution_count": null,
   "outputs": [],
   "source": [
    "#KN\n",
    "I_KN = I.copy()\n",
    "r = 0\n",
    "X = pd.DataFrame(index=range(10))\n",
    "while r <10000 and len(I_KN)>1 :\n",
    "    r += 1\n",
    "    X[r]=np.random.normal(loc=mu,scale = sigma)\n",
    "    X_bar_r = np.mean(X,axis=1)\n",
    "    I_old = I_KN.copy()\n",
    "    I_KN = list()\n",
    "    for i in I_old:\n",
    "        keep_i = True\n",
    "        for l in I_old:\n",
    "            W_il_r = max(0,\n",
    "                         delta/(2*r)*(h_squire*S_squire.loc[i,l]/np.power(delta,2)-r))\n",
    "            if not X_bar_r[i]>=X_bar_r[l]-W_il_r:\n",
    "                keep_i = False\n",
    "        if keep_i:\n",
    "            I_KN.append(i)\n"
   ],
   "metadata": {
    "collapsed": false
   }
  }
 ],
 "metadata": {
  "kernelspec": {
   "display_name": "Python 3",
   "language": "python",
   "name": "python3"
  },
  "language_info": {
   "codemirror_mode": {
    "name": "ipython",
    "version": 2
   },
   "file_extension": ".py",
   "mimetype": "text/x-python",
   "name": "python",
   "nbconvert_exporter": "python",
   "pygments_lexer": "ipython2",
   "version": "2.7.6"
  }
 },
 "nbformat": 4,
 "nbformat_minor": 0
}
