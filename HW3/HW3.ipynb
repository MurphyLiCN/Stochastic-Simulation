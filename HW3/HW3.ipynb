{
 "cells": [
  {
   "cell_type": "code",
   "execution_count": 187,
   "outputs": [],
   "source": [
    "%reset"
   ],
   "metadata": {
    "collapsed": false
   }
  },
  {
   "cell_type": "code",
   "execution_count": 188,
   "metadata": {
    "collapsed": true
   },
   "outputs": [],
   "source": [
    "# 加载所需的库\n",
    "import pandas as pd\n",
    "import numpy as np\n",
    "from scipy.stats import binom\n",
    "from scipy.stats import norm\n",
    "from scipy.stats import chi2\n",
    "from sklearn.linear_model import LinearRegression\n",
    "import matplotlib.pyplot as plt"
   ]
  },
  {
   "cell_type": "code",
   "execution_count": 189,
   "outputs": [],
   "source": [
    "m = 100\n",
    "l = pd.Series(np.repeat(1,m))\n",
    "Delta = 1.7\n",
    "d = 5\n",
    "Rho = 0.5\n",
    "n = 300\n",
    "np.random.seed(1)"
   ],
   "metadata": {
    "collapsed": false
   }
  },
  {
   "cell_type": "markdown",
   "source": [
    "## crude simulation"
   ],
   "metadata": {
    "collapsed": false
   }
  },
  {
   "cell_type": "code",
   "execution_count": 190,
   "outputs": [],
   "source": [
    "P_crude = list()\n",
    "\n",
    "for j in range(100):\n",
    "    L_crude = list()\n",
    "\n",
    "    for i in range(n):\n",
    "        z_0 = np.random.normal(loc=0,scale=1)\n",
    "        u = np.random.uniform()\n",
    "        Chi_2 = chi2.ppf(q=u, df=d)\n",
    "        #Chi_2 = np.random.chisquare(df=d,size=m)\n",
    "        z = pd.Series(np.random.normal(loc=0,scale=1,size=m))\n",
    "        x = (Rho*z_0 + np.power((1-np.power(Rho,2)),0.5)*z) / np.power(Chi_2/d,0.5)\n",
    "        L_crude.append(np.sum(l*(x>Delta)))\n",
    "\n",
    "    L_crude = pd.Series(L_crude)\n",
    "    p = sum(L_crude>10)/len(L_crude)\n",
    "    P_crude.append(p)\n",
    "\n",
    "P_crude = pd.Series(P_crude)"
   ],
   "metadata": {
    "collapsed": false
   }
  },
  {
   "cell_type": "code",
   "execution_count": 191,
   "outputs": [
    {
     "data": {
      "text/plain": "(array([ 2.,  7.,  7., 13., 11., 19., 17., 12.,  7.,  5.]),\n array([0.18      , 0.19133333, 0.20266667, 0.214     , 0.22533333,\n        0.23666667, 0.248     , 0.25933333, 0.27066667, 0.282     ,\n        0.29333333]),\n <BarContainer object of 10 artists>)"
     },
     "execution_count": 191,
     "metadata": {},
     "output_type": "execute_result"
    },
    {
     "data": {
      "text/plain": "<Figure size 640x480 with 1 Axes>",
      "image/png": "[encoded data removed]"
     },
     "metadata": {},
     "output_type": "display_data"
    }
   ],
   "source": [
    "plt.hist(P_crude)"
   ],
   "metadata": {
    "collapsed": false
   }
  },
  {
   "cell_type": "code",
   "execution_count": 192,
   "outputs": [
    {
     "data": {
      "text/plain": "0.2408"
     },
     "execution_count": 192,
     "metadata": {},
     "output_type": "execute_result"
    }
   ],
   "source": [
    "np.mean(P_crude)"
   ],
   "metadata": {
    "collapsed": false
   }
  },
  {
   "cell_type": "code",
   "execution_count": 193,
   "outputs": [
    {
     "data": {
      "text/plain": "0.0006626933333333337"
     },
     "execution_count": 193,
     "metadata": {},
     "output_type": "execute_result"
    }
   ],
   "source": [
    "np.var(P_crude)\n"
   ],
   "metadata": {
    "collapsed": false
   }
  },
  {
   "cell_type": "markdown",
   "source": [
    "## Antithetic Variates"
   ],
   "metadata": {
    "collapsed": false
   }
  },
  {
   "cell_type": "code",
   "execution_count": 194,
   "outputs": [],
   "source": [
    "np.random.seed(1)\n",
    "P_AV = list()\n",
    "\n",
    "for j in range(100):\n",
    "    p_AV = list()\n",
    "    for i in range(n):\n",
    "        #生成仿真\n",
    "        z_0 = np.random.normal(loc=0,scale=1)\n",
    "        u = np.random.uniform()\n",
    "        Chi_2 = chi2.ppf(q=u, df=d)\n",
    "        z = pd.Series(np.random.normal(loc=0,scale=1,size=m))\n",
    "        x = (Rho*z_0 + np.power((1-np.power(Rho,2)),0.5)*z) \\\n",
    "            / np.power(Chi_2/d,0.5)\n",
    "        L=np.sum(l*(x>Delta))\n",
    "        if L > 10:\n",
    "            p = 1\n",
    "        else:\n",
    "            p=0\n",
    "\n",
    "        #生成Antithetic\n",
    "        Chi_2_anti = chi2.ppf(q=(1-u), df=d)\n",
    "        x_anti = (Rho*(-z_0) + np.power((1-np.power(Rho,2)),0.5)*(-z)) \\\n",
    "                 / np.power(Chi_2_anti/d,0.5)\n",
    "        L_anty = np.sum(l*(x_anti>Delta))\n",
    "        if L_anty > 10:\n",
    "            p_anty = 1\n",
    "        else:\n",
    "            p_anty=0\n",
    "\n",
    "        #记录\n",
    "        p_AV.append((p+p_anty)/2)\n",
    "\n",
    "    p = np.mean(p_AV)\n",
    "    P_AV.append(p)\n",
    "\n",
    "P_AV = pd.Series(P_AV)"
   ],
   "metadata": {
    "collapsed": false
   }
  },
  {
   "cell_type": "code",
   "execution_count": 195,
   "outputs": [
    {
     "data": {
      "text/plain": "(array([ 4.,  8.,  7., 20., 14., 18., 14.,  9.,  4.,  2.]),\n array([0.20833333, 0.21466667, 0.221     , 0.22733333, 0.23366667,\n        0.24      , 0.24633333, 0.25266667, 0.259     , 0.26533333,\n        0.27166667]),\n <BarContainer object of 10 artists>)"
     },
     "execution_count": 195,
     "metadata": {},
     "output_type": "execute_result"
    },
    {
     "data": {
      "text/plain": "<Figure size 640x480 with 1 Axes>",
      "image/png": "[encoded data removed]"
     },
     "metadata": {},
     "output_type": "display_data"
    }
   ],
   "source": [
    "plt.hist(P_AV)"
   ],
   "metadata": {
    "collapsed": false
   }
  },
  {
   "cell_type": "code",
   "execution_count": 196,
   "outputs": [
    {
     "data": {
      "text/plain": "0.2382"
     },
     "execution_count": 196,
     "metadata": {},
     "output_type": "execute_result"
    }
   ],
   "source": [
    "np.mean(P_AV)"
   ],
   "metadata": {
    "collapsed": false
   }
  },
  {
   "cell_type": "code",
   "execution_count": 197,
   "outputs": [
    {
     "data": {
      "text/plain": "0.00017603777777777777"
     },
     "execution_count": 197,
     "metadata": {},
     "output_type": "execute_result"
    }
   ],
   "source": [
    "np.var(P_AV)\n"
   ],
   "metadata": {
    "collapsed": false
   }
  },
  {
   "cell_type": "code",
   "execution_count": 198,
   "outputs": [
    {
     "data": {
      "text/plain": "0.2656398803535738"
     },
     "execution_count": 198,
     "metadata": {},
     "output_type": "execute_result"
    }
   ],
   "source": [
    "np.var(P_AV)/np.var(P_crude)\n"
   ],
   "metadata": {
    "collapsed": false
   }
  },
  {
   "cell_type": "markdown",
   "source": [
    "## Control variates"
   ],
   "metadata": {
    "collapsed": false
   }
  },
  {
   "cell_type": "code",
   "execution_count": 199,
   "outputs": [],
   "source": [
    "np.random.seed(1)\n",
    "P_CV = list()\n",
    "\n",
    "for j in range(100):\n",
    "    L_CV = list()\n",
    "\n",
    "    for i in range(n):\n",
    "        z_0 = np.random.normal(loc=0,scale=1)\n",
    "        u = np.random.uniform()\n",
    "        Chi_2 = chi2.ppf(q=u, df=d)\n",
    "        z = pd.Series(np.random.normal(loc=0,scale=1,size=m))\n",
    "        x = (Rho*z_0 + np.power((1-np.power(Rho,2)),0.5)*z) / np.power(Chi_2/d,0.5)\n",
    "        L = np.sum(l*(x>Delta))\n",
    "        if L > 10:\n",
    "            p = 1\n",
    "        else:\n",
    "            p=0\n",
    "\n",
    "        L_CV.append([p]+[z_0]+[Chi_2-d]+list(z))\n",
    "\n",
    "        #L_CV.insert(L_CV.shape[1],i,[L]+[z_0]+list(Chi_2-d)+list(z))\n",
    "\n",
    "    L_CV = pd.DataFrame(L_CV)\n",
    "\n",
    "    y = L_CV.iloc[:, 0] # 因变量\n",
    "    x = L_CV.iloc[:, 1:] # 自变量\n",
    "\n",
    "    model = LinearRegression() # 构建线性模型\n",
    "    model.fit(x, y) # 自变量在前，因变量在后\n",
    "    predicts = model.predict(x)\n",
    "    intercept = model.intercept_\n",
    "    r = y - predicts + intercept\n",
    "\n",
    "    p = np.mean(r)\n",
    "    P_CV.append(p)\n",
    "\n",
    "P_CV = pd.Series(P_CV)\n"
   ],
   "metadata": {
    "collapsed": false
   }
  },
  {
   "cell_type": "code",
   "execution_count": 200,
   "outputs": [
    {
     "data": {
      "text/plain": "(array([ 4.,  8., 15., 23., 15., 14.,  6.,  6.,  5.,  4.]),\n array([0.18840696, 0.19860719, 0.20880741, 0.21900763, 0.22920786,\n        0.23940808, 0.2496083 , 0.25980853, 0.27000875, 0.28020897,\n        0.2904092 ]),\n <BarContainer object of 10 artists>)"
     },
     "execution_count": 200,
     "metadata": {},
     "output_type": "execute_result"
    },
    {
     "data": {
      "text/plain": "<Figure size 640x480 with 1 Axes>",
      "image/png": "[encoded data removed]"
     },
     "metadata": {},
     "output_type": "display_data"
    }
   ],
   "source": [
    "plt.hist(P_CV)"
   ],
   "metadata": {
    "collapsed": false
   }
  },
  {
   "cell_type": "code",
   "execution_count": 201,
   "outputs": [
    {
     "data": {
      "text/plain": "0.23327976262877523"
     },
     "execution_count": 201,
     "metadata": {},
     "output_type": "execute_result"
    }
   ],
   "source": [
    "np.mean(P_CV)\n"
   ],
   "metadata": {
    "collapsed": false
   }
  },
  {
   "cell_type": "code",
   "execution_count": 202,
   "outputs": [
    {
     "data": {
      "text/plain": "0.0005027419197397793"
     },
     "execution_count": 202,
     "metadata": {},
     "output_type": "execute_result"
    }
   ],
   "source": [
    "np.var(P_CV)\n"
   ],
   "metadata": {
    "collapsed": false
   }
  },
  {
   "cell_type": "code",
   "execution_count": 203,
   "outputs": [
    {
     "data": {
      "text/plain": "0.7586343402777237"
     },
     "execution_count": 203,
     "metadata": {},
     "output_type": "execute_result"
    }
   ],
   "source": [
    "np.var(P_CV)/np.var(P_crude)"
   ],
   "metadata": {
    "collapsed": false
   }
  },
  {
   "cell_type": "markdown",
   "source": [
    "## CONDITIONAL EXPECTATIONS"
   ],
   "metadata": {
    "collapsed": false
   }
  },
  {
   "cell_type": "code",
   "execution_count": 205,
   "outputs": [],
   "source": [
    "P_CE = list()\n",
    "\n",
    "for j in range(100):\n",
    "    p_CE = list()\n",
    "\n",
    "    for i in range(n):\n",
    "        z_0 = np.random.normal(loc=0,scale=1)\n",
    "        u = np.random.uniform()\n",
    "        Chi_2 = chi2.ppf(q=u, df=d)\n",
    "\n",
    "        y = (Delta * np.power(Chi_2/d,0.5) - Rho*z_0 ) / np.power((1-np.power(Rho,2)),0.5)\n",
    "        p_binom = 1 - norm.cdf(y)\n",
    "        p = 1 - binom.cdf(9,n=100,p=p_binom)\n",
    "\n",
    "        p_CE.append(p)\n",
    "\n",
    "    p = np.mean(p_CE)\n",
    "    P_CE.append(p)\n",
    "\n",
    "P_CE = pd.Series(P_CE)\n"
   ],
   "metadata": {
    "collapsed": false
   }
  },
  {
   "cell_type": "code",
   "execution_count": 206,
   "outputs": [
    {
     "data": {
      "text/plain": "(array([ 5., 11., 17., 19., 14., 11., 11.,  6.,  3.,  3.]),\n array([0.20890842, 0.22082831, 0.2327482 , 0.2446681 , 0.25658799,\n        0.26850788, 0.28042777, 0.29234767, 0.30426756, 0.31618745,\n        0.32810735]),\n <BarContainer object of 10 artists>)"
     },
     "execution_count": 206,
     "metadata": {},
     "output_type": "execute_result"
    },
    {
     "data": {
      "text/plain": "<Figure size 640x480 with 1 Axes>",
      "image/png": "[encoded data removed]"
     },
     "metadata": {},
     "output_type": "display_data"
    }
   ],
   "source": [
    "plt.hist(P_CE)"
   ],
   "metadata": {
    "collapsed": false
   }
  },
  {
   "cell_type": "code",
   "execution_count": 207,
   "outputs": [
    {
     "data": {
      "text/plain": "0.2590748204639043"
     },
     "execution_count": 207,
     "metadata": {},
     "output_type": "execute_result"
    }
   ],
   "source": [
    "np.mean(P_CE)\n"
   ],
   "metadata": {
    "collapsed": false
   }
  },
  {
   "cell_type": "code",
   "execution_count": 208,
   "outputs": [
    {
     "data": {
      "text/plain": "0.000664008118800265"
     },
     "execution_count": 208,
     "metadata": {},
     "output_type": "execute_result"
    }
   ],
   "source": [
    "np.var(P_CE)\n"
   ],
   "metadata": {
    "collapsed": false
   }
  },
  {
   "cell_type": "code",
   "execution_count": 209,
   "outputs": [
    {
     "data": {
      "text/plain": "1.0019840028574272"
     },
     "execution_count": 209,
     "metadata": {},
     "output_type": "execute_result"
    }
   ],
   "source": [
    "np.var(P_CE)/np.var(P_crude)\n"
   ],
   "metadata": {
    "collapsed": false
   }
  },
  {
   "cell_type": "code",
   "execution_count": 214,
   "outputs": [],
   "source": [
    "P_CE2 = list()\n",
    "cutoff = norm.ppf(1-10/m)\n",
    "\n",
    "for j in range(100):\n",
    "    p_CE2 = list()\n",
    "\n",
    "    for i in range(n):\n",
    "        z_0 = np.random.normal(loc=0,scale=1)\n",
    "        u = np.random.uniform()\n",
    "        Chi_2 = chi2.ppf(q=u, df=d)\n",
    "\n",
    "        y = (Delta * np.power(Chi_2/d,0.5) - Rho*z_0 ) / np.power((1-np.power(Rho,2)),0.5)\n",
    "        if y < cutoff:\n",
    "            p = 1\n",
    "        else:\n",
    "            p = 0\n",
    "\n",
    "        p_CE2.append(p)\n",
    "\n",
    "    p = np.mean(p_CE2)\n",
    "    P_CE2.append(p)\n",
    "\n",
    "P_CE2 = pd.Series(P_CE2)"
   ],
   "metadata": {
    "collapsed": false
   }
  },
  {
   "cell_type": "code",
   "execution_count": 215,
   "outputs": [
    {
     "data": {
      "text/plain": "(array([ 2.,  6.,  9., 16., 19., 22., 13.,  6.,  5.,  2.]),\n array([0.18666667, 0.199     , 0.21133333, 0.22366667, 0.236     ,\n        0.24833333, 0.26066667, 0.273     , 0.28533333, 0.29766667,\n        0.31      ]),\n <BarContainer object of 10 artists>)"
     },
     "execution_count": 215,
     "metadata": {},
     "output_type": "execute_result"
    },
    {
     "data": {
      "text/plain": "<Figure size 640x480 with 1 Axes>",
      "image/png": "[encoded data removed]"
     },
     "metadata": {},
     "output_type": "display_data"
    }
   ],
   "source": [
    "plt.hist(P_CE2)\n"
   ],
   "metadata": {
    "collapsed": false
   }
  },
  {
   "cell_type": "code",
   "execution_count": 216,
   "outputs": [
    {
     "data": {
      "text/plain": "0.24650000000000008"
     },
     "execution_count": 216,
     "metadata": {},
     "output_type": "execute_result"
    }
   ],
   "source": [
    "np.mean(P_CE2)\n"
   ],
   "metadata": {
    "collapsed": false
   }
  },
  {
   "cell_type": "code",
   "execution_count": 217,
   "outputs": [
    {
     "data": {
      "text/plain": "0.0005856388888888888"
     },
     "execution_count": 217,
     "metadata": {},
     "output_type": "execute_result"
    }
   ],
   "source": [
    "np.var(P_CE2)\n"
   ],
   "metadata": {
    "collapsed": false
   }
  },
  {
   "cell_type": "code",
   "execution_count": 218,
   "outputs": [
    {
     "data": {
      "text/plain": "0.8837253363379066"
     },
     "execution_count": 218,
     "metadata": {},
     "output_type": "execute_result"
    }
   ],
   "source": [
    "np.var(P_CE2)/np.var(P_crude)\n"
   ],
   "metadata": {
    "collapsed": false
   }
  },
  {
   "cell_type": "code",
   "execution_count": null,
   "outputs": [],
   "source": [],
   "metadata": {
    "collapsed": false
   }
  }
 ],
 "metadata": {
  "kernelspec": {
   "display_name": "Python 3",
   "language": "python",
   "name": "python3"
  },
  "language_info": {
   "codemirror_mode": {
    "name": "ipython",
    "version": 2
   },
   "file_extension": ".py",
   "mimetype": "text/x-python",
   "name": "python",
   "nbconvert_exporter": "python",
   "pygments_lexer": "ipython2",
   "version": "2.7.6"
  }
 },
 "nbformat": 4,
 "nbformat_minor": 0
}
