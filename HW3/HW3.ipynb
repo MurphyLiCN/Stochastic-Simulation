{
 "cells": [
  {
   "cell_type": "code",
   "execution_count": 64,
   "outputs": [],
   "source": [
    "%reset"
   ],
   "metadata": {
    "collapsed": false
   }
  },
  {
   "cell_type": "code",
   "execution_count": 65,
   "metadata": {
    "collapsed": true
   },
   "outputs": [],
   "source": [
    "# 加载所需的库\n",
    "import pandas as pd\n",
    "import numpy as np\n",
    "from scipy.stats import binom\n",
    "from scipy.stats import norm\n",
    "from scipy.stats import chi2\n",
    "from sklearn.linear_model import LinearRegression\n",
    "import matplotlib.pyplot as plt\n",
    "import datetime"
   ]
  },
  {
   "cell_type": "code",
   "execution_count": 66,
   "outputs": [],
   "source": [
    "#设置参数\n",
    "m = 100\n",
    "l = pd.Series(np.repeat(1,m))\n",
    "Delta = 1.7\n",
    "d = 5\n",
    "Rho = 0.5\n",
    "n = 300\n",
    "np.random.seed(1)"
   ],
   "metadata": {
    "collapsed": false
   }
  },
  {
   "cell_type": "markdown",
   "source": [
    "## crude simulation\n",
    "最原始的仿真方法，作为benchmark使用，与后文的4种方法进行比较。"
   ],
   "metadata": {
    "collapsed": false
   }
  },
  {
   "cell_type": "code",
   "execution_count": 67,
   "outputs": [],
   "source": [
    "np.random.seed(1)\n",
    "CS_starttime = datetime.datetime.now()\n",
    "\n",
    "P_crude = list()\n",
    "\n",
    "for j in range(100):\n",
    "    L_crude = list()\n",
    "\n",
    "    for i in range(n):\n",
    "        z_0 = np.random.normal(loc=0,scale=1)\n",
    "        u = np.random.uniform()\n",
    "        Chi_2 = chi2.ppf(q=u, df=d)\n",
    "        z = pd.Series(np.random.normal(loc=0,scale=1,size=m))\n",
    "        x = (Rho*z_0 + np.power((1-np.power(Rho,2)),0.5)*z) / np.power(Chi_2/d,0.5)\n",
    "        L_crude.append(np.sum(l*(x>Delta)))\n",
    "\n",
    "    L_crude = pd.Series(L_crude)\n",
    "    p = sum(L_crude>10)/len(L_crude)\n",
    "    P_crude.append(p)\n",
    "\n",
    "P_crude = pd.Series(P_crude)\n",
    "\n",
    "CS_endtime = datetime.datetime.now()\n",
    "CS_time = CS_endtime-CS_starttime"
   ],
   "metadata": {
    "collapsed": false
   }
  },
  {
   "cell_type": "code",
   "execution_count": 68,
   "outputs": [
    {
     "data": {
      "text/plain": "(array([ 2.,  7.,  7., 13., 11., 19., 17., 12.,  7.,  5.]),\n array([0.18      , 0.19133333, 0.20266667, 0.214     , 0.22533333,\n        0.23666667, 0.248     , 0.25933333, 0.27066667, 0.282     ,\n        0.29333333]),\n <BarContainer object of 10 artists>)"
     },
     "execution_count": 68,
     "metadata": {},
     "output_type": "execute_result"
    },
    {
     "data": {
      "text/plain": "<Figure size 640x480 with 1 Axes>",
      "image/png": "[encoded data removed]"
     },
     "metadata": {},
     "output_type": "display_data"
    }
   ],
   "source": [
    "plt.hist(P_crude)"
   ],
   "metadata": {
    "collapsed": false
   }
  },
  {
   "cell_type": "code",
   "execution_count": 69,
   "outputs": [
    {
     "name": "stdout",
     "output_type": "stream",
     "text": [
      "均值为 0.2408 \n",
      " 方差为： 0.0006626933333333337 \n",
      " 运行时间为： 0:00:06.497823\n"
     ]
    }
   ],
   "source": [
    "print('均值为',np.mean(P_crude),'\\n',\n",
    "      '方差为：',np.var(P_crude),'\\n',\n",
    "      '运行时间为：',CS_time)"
   ],
   "metadata": {
    "collapsed": false
   }
  },
  {
   "cell_type": "markdown",
   "source": [
    "## Antithetic Variates\n",
    "方法1：效果一般，方差减少为初始方法的1/4,时间为两倍。"
   ],
   "metadata": {
    "collapsed": false
   }
  },
  {
   "cell_type": "code",
   "execution_count": 70,
   "outputs": [],
   "source": [
    "np.random.seed(1)\n",
    "AV_starttime = datetime.datetime.now()\n",
    "\n",
    "P_AV = list()\n",
    "\n",
    "for j in range(100):\n",
    "    p_AV = list()\n",
    "    for i in range(n):\n",
    "        #生成仿真\n",
    "        z_0 = np.random.normal(loc=0,scale=1)\n",
    "        u = np.random.uniform()\n",
    "        Chi_2 = chi2.ppf(q=u, df=d)\n",
    "        z = pd.Series(np.random.normal(loc=0,scale=1,size=m))\n",
    "        x = (Rho*z_0 + np.power((1-np.power(Rho,2)),0.5)*z) \\\n",
    "            / np.power(Chi_2/d,0.5)\n",
    "        L=np.sum(l*(x>Delta))\n",
    "        if L > 10:\n",
    "            p = 1\n",
    "        else:\n",
    "            p=0\n",
    "\n",
    "        #生成Antithetic\n",
    "        Chi_2_anti = chi2.ppf(q=(1-u), df=d)\n",
    "        x_anti = (Rho*(-z_0) + np.power((1-np.power(Rho,2)),0.5)*(-z)) \\\n",
    "                 / np.power(Chi_2_anti/d,0.5)\n",
    "        L_anty = np.sum(l*(x_anti>Delta))\n",
    "        if L_anty > 10:\n",
    "            p_anty = 1\n",
    "        else:\n",
    "            p_anty=0\n",
    "\n",
    "        #记录\n",
    "        p_AV.append((p+p_anty)/2)\n",
    "\n",
    "    p = np.mean(p_AV)\n",
    "    P_AV.append(p)\n",
    "\n",
    "P_AV = pd.Series(P_AV)\n",
    "\n",
    "AV_endtime = datetime.datetime.now()\n",
    "AV_time = AV_endtime-AV_starttime"
   ],
   "metadata": {
    "collapsed": false
   }
  },
  {
   "cell_type": "code",
   "execution_count": 71,
   "outputs": [
    {
     "data": {
      "text/plain": "(array([ 4.,  8.,  7., 20., 14., 18., 14.,  9.,  4.,  2.]),\n array([0.20833333, 0.21466667, 0.221     , 0.22733333, 0.23366667,\n        0.24      , 0.24633333, 0.25266667, 0.259     , 0.26533333,\n        0.27166667]),\n <BarContainer object of 10 artists>)"
     },
     "execution_count": 71,
     "metadata": {},
     "output_type": "execute_result"
    },
    {
     "data": {
      "text/plain": "<Figure size 640x480 with 1 Axes>",
      "image/png": "[encoded data removed]"
     },
     "metadata": {},
     "output_type": "display_data"
    }
   ],
   "source": [
    "plt.hist(P_AV)"
   ],
   "metadata": {
    "collapsed": false
   }
  },
  {
   "cell_type": "code",
   "execution_count": 72,
   "outputs": [
    {
     "name": "stdout",
     "output_type": "stream",
     "text": [
      "均值为 0.2382 \n",
      " 方差为： 0.060899999999999996 \n",
      " 运行时间为： 0:00:12.858060 \n",
      " 方差比例为： 0.2656398803535738 \n",
      " 时间比例为： 1.9788258313592106\n"
     ]
    }
   ],
   "source": [
    "print('均值为',np.mean(P_AV),'\\n',\n",
    "      '方差为：',np.var(p_AV),'\\n',\n",
    "      '运行时间为：',AV_time,'\\n',\n",
    "      '方差比例为：',np.var(P_AV)/np.var(P_crude),'\\n',\n",
    "      '时间比例为：',AV_time/CS_time)"
   ],
   "metadata": {
    "collapsed": false
   }
  },
  {
   "cell_type": "markdown",
   "source": [
    "## Control variates\n",
    "方法2：效果较差，方差减少为初始方法的3/4，时间为初始方法的两倍。"
   ],
   "metadata": {
    "collapsed": false
   }
  },
  {
   "cell_type": "code",
   "execution_count": 73,
   "outputs": [],
   "source": [
    "np.random.seed(1)\n",
    "CV_starttime = datetime.datetime.now()\n",
    "\n",
    "P_CV = list()\n",
    "\n",
    "for j in range(100):\n",
    "    L_CV = list()\n",
    "\n",
    "    for i in range(n):\n",
    "        z_0 = np.random.normal(loc=0,scale=1)\n",
    "        u = np.random.uniform()\n",
    "        Chi_2 = chi2.ppf(q=u, df=d)\n",
    "        z = pd.Series(np.random.normal(loc=0,scale=1,size=m))\n",
    "        x = (Rho*z_0 + np.power((1-np.power(Rho,2)),0.5)*z) / np.power(Chi_2/d,0.5)\n",
    "        L = np.sum(l*(x>Delta))\n",
    "        if L > 10:\n",
    "            p = 1\n",
    "        else:\n",
    "            p=0\n",
    "\n",
    "        L_CV.append([p]+[z_0]+[Chi_2-d]+list(z))\n",
    "\n",
    "        #L_CV.insert(L_CV.shape[1],i,[L]+[z_0]+list(Chi_2-d)+list(z))\n",
    "\n",
    "    L_CV = pd.DataFrame(L_CV)\n",
    "\n",
    "    y = L_CV.iloc[:, 0] # 因变量\n",
    "    x = L_CV.iloc[:, 1:] # 自变量\n",
    "\n",
    "    model = LinearRegression() # 构建线性模型\n",
    "    model.fit(x, y) # 自变量在前，因变量在后\n",
    "    predicts = model.predict(x)\n",
    "    intercept = model.intercept_\n",
    "    r = y - predicts + intercept\n",
    "\n",
    "    p = np.mean(r)\n",
    "    P_CV.append(p)\n",
    "\n",
    "P_CV = pd.Series(P_CV)\n",
    "\n",
    "CV_endtime = datetime.datetime.now()\n",
    "CV_time = CV_endtime-CV_starttime"
   ],
   "metadata": {
    "collapsed": false
   }
  },
  {
   "cell_type": "code",
   "execution_count": 74,
   "outputs": [
    {
     "data": {
      "text/plain": "(array([ 4.,  8., 15., 23., 15., 14.,  6.,  6.,  5.,  4.]),\n array([0.18840696, 0.19860719, 0.20880741, 0.21900763, 0.22920786,\n        0.23940808, 0.2496083 , 0.25980853, 0.27000875, 0.28020897,\n        0.2904092 ]),\n <BarContainer object of 10 artists>)"
     },
     "execution_count": 74,
     "metadata": {},
     "output_type": "execute_result"
    },
    {
     "data": {
      "text/plain": "<Figure size 640x480 with 1 Axes>",
      "image/png": "[encoded data removed]"
     },
     "metadata": {},
     "output_type": "display_data"
    }
   ],
   "source": [
    "plt.hist(P_CV)"
   ],
   "metadata": {
    "collapsed": false
   }
  },
  {
   "cell_type": "code",
   "execution_count": 75,
   "outputs": [
    {
     "name": "stdout",
     "output_type": "stream",
     "text": [
      "均值为 0.23327976262877523 \n",
      " 方差为： 0.0005027419197397793 \n",
      " 运行时间为： 0:00:11.968204 \n",
      " 方差比例为： 0.7586343402777237 \n",
      " 时间比例为： 1.8418790416421007\n"
     ]
    }
   ],
   "source": [
    "print('均值为',np.mean(P_CV),'\\n',\n",
    "      '方差为：',np.var(P_CV),'\\n',\n",
    "      '运行时间为：',CV_time,'\\n',\n",
    "      '方差比例为：',np.var(P_CV)/np.var(P_crude),'\\n',\n",
    "      '时间比例为：',CV_time/CS_time)"
   ],
   "metadata": {
    "collapsed": false
   }
  },
  {
   "cell_type": "markdown",
   "source": [
    "## CONDITIONAL EXPECTATIONS\n",
    "方法3、4:条件期望的框架下，提供了两种不同的仿真方法。\n",
    "两种的效果均相对较好，在时间为原始方法1/2的情况下，方差为原始方法的4/5与2/5。\n",
    "但值得注意的是，虽然方法3在理论推倒上非常顺畅，但方法3的点估计出现了一定的偏误，因此应当是不可用的。\n",
    "所以，将方法3保留下来仅作为参考，方便后续讨论寻找问题，。"
   ],
   "metadata": {
    "collapsed": false
   }
  },
  {
   "cell_type": "code",
   "execution_count": 85,
   "outputs": [],
   "source": [
    "np.random.seed(1)\n",
    "CE_starttime = datetime.datetime.now()\n",
    "\n",
    "P_CE = list()\n",
    "\n",
    "for j in range(100):\n",
    "    p_CE = list()\n",
    "\n",
    "    for i in range(n):\n",
    "        z_0 = np.random.normal(loc=0,scale=1)\n",
    "        u = np.random.uniform()\n",
    "        Chi_2 = chi2.ppf(q=u, df=d)\n",
    "\n",
    "        y = (Delta * np.power(Chi_2/d,0.5) - Rho*z_0 ) / np.power((1-np.power(Rho,2)),0.5)\n",
    "        p_binom = 1 - norm.cdf(y)\n",
    "        p = 1 - binom.cdf(9,n=100,p=p_binom)\n",
    "\n",
    "        p_CE.append(p)\n",
    "\n",
    "    p = np.mean(p_CE)\n",
    "    P_CE.append(p)\n",
    "\n",
    "P_CE = pd.Series(P_CE)\n",
    "\n",
    "CE_endtime = datetime.datetime.now()\n",
    "CE_time = CE_endtime-CE_starttime\n"
   ],
   "metadata": {
    "collapsed": false
   }
  },
  {
   "cell_type": "code",
   "execution_count": 86,
   "outputs": [
    {
     "data": {
      "text/plain": "(array([ 1.,  4.,  6., 13., 21., 21., 17., 12.,  3.,  2.]),\n array([0.19180428, 0.20471469, 0.21762511, 0.23053552, 0.24344594,\n        0.25635636, 0.26926677, 0.28217719, 0.2950876 , 0.30799802,\n        0.32090844]),\n <BarContainer object of 10 artists>)"
     },
     "execution_count": 86,
     "metadata": {},
     "output_type": "execute_result"
    },
    {
     "data": {
      "text/plain": "<Figure size 640x480 with 1 Axes>",
      "image/png": "[encoded data removed]"
     },
     "metadata": {},
     "output_type": "display_data"
    }
   ],
   "source": [
    "plt.hist(P_CE)"
   ],
   "metadata": {
    "collapsed": false
   }
  },
  {
   "cell_type": "code",
   "execution_count": 87,
   "outputs": [
    {
     "name": "stdout",
     "output_type": "stream",
     "text": [
      "均值为 0.2592993113864054 \n",
      " 方差为： 0.0005559610125327594 \n",
      " 运行时间为： 0:00:02.779108 \n",
      " 方差比例为： 0.8389416107995037 \n",
      " 时间比例为： 0.427698322961398\n"
     ]
    }
   ],
   "source": [
    "print('均值为',np.mean(P_CE),'\\n',\n",
    "      '方差为：',np.var(P_CE),'\\n',\n",
    "      '运行时间为：',CE_time,'\\n',\n",
    "      '方差比例为：',np.var(P_CE)/np.var(P_crude),'\\n',\n",
    "      '时间比例为：',CE_time/CS_time)"
   ],
   "metadata": {
    "collapsed": false
   }
  },
  {
   "cell_type": "code",
   "execution_count": 79,
   "outputs": [],
   "source": [
    "np.random.seed(1)\n",
    "CE2_starttime = datetime.datetime.now()\n",
    "\n",
    "P_CE2 = list()\n",
    "cutoff = norm.ppf(1-10/m)\n",
    "\n",
    "for j in range(100):\n",
    "    p_CE2 = list()\n",
    "\n",
    "    for i in range(3*n):\n",
    "        z_0 = np.random.normal(loc=0,scale=1)\n",
    "        u = np.random.uniform()\n",
    "        Chi_2 = chi2.ppf(q=u, df=d)\n",
    "\n",
    "        y = (Delta * np.power(Chi_2/d,0.5) - Rho*z_0 ) / np.power((1-np.power(Rho,2)),0.5)\n",
    "        if y < cutoff:\n",
    "            p = 1\n",
    "        else:\n",
    "            p = 0\n",
    "\n",
    "        p_CE2.append(p)\n",
    "\n",
    "    p = np.mean(p_CE2)\n",
    "    P_CE2.append(p)\n",
    "\n",
    "P_CE2 = pd.Series(P_CE2)\n",
    "\n",
    "CE2_endtime = datetime.datetime.now()\n",
    "CE2_time = CE2_endtime-CE2_starttime"
   ],
   "metadata": {
    "collapsed": false
   }
  },
  {
   "cell_type": "code",
   "execution_count": 80,
   "outputs": [
    {
     "data": {
      "text/plain": "(array([ 2.,  3.,  8., 12., 24., 17., 21.,  8.,  4.,  1.]),\n array([0.20111111, 0.20977778, 0.21844444, 0.22711111, 0.23577778,\n        0.24444444, 0.25311111, 0.26177778, 0.27044444, 0.27911111,\n        0.28777778]),\n <BarContainer object of 10 artists>)"
     },
     "execution_count": 80,
     "metadata": {},
     "output_type": "execute_result"
    },
    {
     "data": {
      "text/plain": "<Figure size 640x480 with 1 Axes>",
      "image/png": "[encoded data removed]"
     },
     "metadata": {},
     "output_type": "display_data"
    }
   ],
   "source": [
    "plt.hist(P_CE2)"
   ],
   "metadata": {
    "collapsed": false
   }
  },
  {
   "cell_type": "code",
   "execution_count": 81,
   "outputs": [
    {
     "name": "stdout",
     "output_type": "stream",
     "text": [
      "均值为 0.24544444444444463 \n",
      " 方差为： 0.00026062962962962964 \n",
      " 运行时间为： 0:00:03.179889 \n",
      " 方差比例为： 0.39328844356811016 \n",
      " 时间比例为： 0.48937759615797477\n"
     ]
    }
   ],
   "source": [
    "print('均值为',np.mean(P_CE2),'\\n',\n",
    "      '方差为：',np.var(P_CE2),'\\n',\n",
    "      '运行时间为：',CE2_time,'\\n',\n",
    "      '方差比例为：',np.var(P_CE2)/np.var(P_crude),'\\n',\n",
    "      '时间比例为：',CE2_time/CS_time)\n"
   ],
   "metadata": {
    "collapsed": false
   }
  }
 ],
 "metadata": {
  "kernelspec": {
   "display_name": "Python 3",
   "language": "python",
   "name": "python3"
  },
  "language_info": {
   "codemirror_mode": {
    "name": "ipython",
    "version": 2
   },
   "file_extension": ".py",
   "mimetype": "text/x-python",
   "name": "python",
   "nbconvert_exporter": "python",
   "pygments_lexer": "ipython2",
   "version": "2.7.6"
  }
 },
 "nbformat": 4,
 "nbformat_minor": 0
}
