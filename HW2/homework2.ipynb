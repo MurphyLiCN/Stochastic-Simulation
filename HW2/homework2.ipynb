{
 "cells": [
  {
   "cell_type": "code",
   "execution_count": 9,
   "metadata": {
    "collapsed": true
   },
   "outputs": [],
   "source": [
    "# 加载所需的库\n",
    "import pandas as pd\n",
    "import numpy as np\n",
    "import matplotlib.pyplot as plt\n",
    "import warnings"
   ]
  },
  {
   "cell_type": "code",
   "execution_count": 17,
   "outputs": [],
   "source": [
    "def initialize():\n",
    "    state = 2\n",
    "    clock = 0\n",
    "    return state,clock"
   ],
   "metadata": {
    "collapsed": false
   }
  },
  {
   "cell_type": "code",
   "execution_count": 50,
   "outputs": [],
   "source": [
    "def event(clock,state):\n",
    "    if state == 2:\n",
    "        next_repair = clock + 2e10\n",
    "        next_failure = clock + np.random.exponential(3.5)\n",
    "    elif state == 1:\n",
    "        next_repair = clock + np.random.exponential(2.5)\n",
    "        next_failure = clock + np.random.exponential(3.5)\n",
    "    else:\n",
    "        warnings.warn('state异常')\n",
    "        next_repair = clock + 2e10\n",
    "        next_failure = clock + 2e10\n",
    "    return next_repair,next_failure"
   ],
   "metadata": {
    "collapsed": false
   }
  },
  {
   "cell_type": "code",
   "execution_count": 60,
   "outputs": [],
   "source": [
    "def routine(state,next_repair,next_failure):\n",
    "    next_event = min(next_repair,next_failure)\n",
    "    if next_repair == next_event:\n",
    "        state += 1\n",
    "    elif next_failure == next_event:\n",
    "        state -= 1\n",
    "    clock = next_event\n",
    "    return state,clock"
   ],
   "metadata": {
    "collapsed": false
   }
  },
  {
   "cell_type": "code",
   "execution_count": 61,
   "outputs": [],
   "source": [
    "def over(state):\n",
    "    if state == 0:\n",
    "        return True\n",
    "    else:\n",
    "        return False"
   ],
   "metadata": {
    "collapsed": false
   }
  },
  {
   "cell_type": "code",
   "execution_count": 67,
   "outputs": [],
   "source": [
    "def simulate():\n",
    "    state,clock = initialize()\n",
    "    while not over(state):\n",
    "        next_repair,next_failure = event(clock,state)\n",
    "        state,clock = routine(state,next_repair,next_failure)\n",
    "    return clock"
   ],
   "metadata": {
    "collapsed": false
   }
  },
  {
   "cell_type": "code",
   "execution_count": 74,
   "outputs": [],
   "source": [
    "if __name__ == '__main__':\n",
    "    np.random.seed(1)\n",
    "    result = list()\n",
    "    for i in range(1000):\n",
    "        result.append(simulate())\n",
    "    result = np.array(result)"
   ],
   "metadata": {
    "collapsed": false
   }
  },
  {
   "cell_type": "code",
   "execution_count": 85,
   "outputs": [
    {
     "data": {
      "text/plain": "(array([452., 257., 162.,  65.,  33.,  16.,   5.,   5.,   4.,   1.]),\n array([ 0.10659795,  7.5464696 , 14.98634126, 22.42621291, 29.86608456,\n        37.30595621, 44.74582787, 52.18569952, 59.62557117, 67.06544282,\n        74.50531448]),\n <BarContainer object of 10 artists>)"
     },
     "execution_count": 85,
     "metadata": {},
     "output_type": "execute_result"
    },
    {
     "data": {
      "text/plain": "<Figure size 640x480 with 1 Axes>",
      "image/png": "[encoded data removed]"
     },
     "metadata": {},
     "output_type": "display_data"
    }
   ],
   "source": [
    "plt.hist(result)"
   ],
   "metadata": {
    "collapsed": false
   }
  },
  {
   "cell_type": "code",
   "execution_count": 87,
   "outputs": [
    {
     "name": "stdout",
     "output_type": "stream",
     "text": [
      "均值 11.826628599297651 标准差 10.593004688124383\n"
     ]
    }
   ],
   "source": [
    "print('均值',np.mean(result),'标准差',np.std(result))"
   ],
   "metadata": {
    "collapsed": false
   }
  },
  {
   "cell_type": "code",
   "execution_count": 88,
   "outputs": [
    {
     "name": "stdout",
     "output_type": "stream",
     "text": [
      "均值 0.292 标准差 0.20673599999999998\n"
     ]
    }
   ],
   "source": [
    "p = sum(result<5)/1000\n",
    "print('均值',p,'标准差',p*(1-p))"
   ],
   "metadata": {
    "collapsed": false
   }
  },
  {
   "cell_type": "code",
   "execution_count": null,
   "outputs": [],
   "source": [],
   "metadata": {
    "collapsed": false
   }
  }
 ],
 "metadata": {
  "kernelspec": {
   "display_name": "Python 3",
   "language": "python",
   "name": "python3"
  },
  "language_info": {
   "codemirror_mode": {
    "name": "ipython",
    "version": 2
   },
   "file_extension": ".py",
   "mimetype": "text/x-python",
   "name": "python",
   "nbconvert_exporter": "python",
   "pygments_lexer": "ipython2",
   "version": "2.7.6"
  }
 },
 "nbformat": 4,
 "nbformat_minor": 0
}
