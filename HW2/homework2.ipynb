{
 "cells": [
  {
   "cell_type": "code",
   "execution_count": 9,
   "metadata": {
    "collapsed": true
   },
   "outputs": [],
   "source": [
    "# 加载所需的库\n",
    "import pandas as pd\n",
    "import numpy as np\n",
    "import matplotlib.pyplot as plt\n",
    "import warnings"
   ]
  },
  {
   "cell_type": "code",
   "execution_count": 17,
   "outputs": [],
   "source": [
    "def initialize():\n",
    "    state = 2\n",
    "    clock = 0\n",
    "    return state,clock"
   ],
   "metadata": {
    "collapsed": false
   }
  },
  {
   "cell_type": "code",
   "execution_count": 50,
   "outputs": [],
   "source": [
    "def event(clock,state):\n",
    "    if state == 2:\n",
    "        next_repair = clock + 2e10\n",
    "        next_failure = clock + np.random.exponential(3.5)\n",
    "    elif state == 1:\n",
    "        next_repair = clock + np.random.exponential(2.5)\n",
    "        next_failure = clock + np.random.exponential(3.5)\n",
    "    else:\n",
    "        warnings.warn('state异常')\n",
    "        next_repair = clock + 2e10\n",
    "        next_failure = clock + 2e10\n",
    "    return next_repair,next_failure"
   ],
   "metadata": {
    "collapsed": false
   }
  },
  {
   "cell_type": "code",
   "execution_count": 60,
   "outputs": [],
   "source": [
    "def routine(state,next_repair,next_failure):\n",
    "    next_event = min(next_repair,next_failure)\n",
    "    if next_repair == next_event:\n",
    "        state += 1\n",
    "    elif next_failure == next_event:\n",
    "        state -= 1\n",
    "    clock = next_event\n",
    "    return state,clock"
   ],
   "metadata": {
    "collapsed": false
   }
  },
  {
   "cell_type": "code",
   "execution_count": 61,
   "outputs": [],
   "source": [
    "def over(state):\n",
    "    if state == 0:\n",
    "        return True\n",
    "    else:\n",
    "        return False"
   ],
   "metadata": {
    "collapsed": false
   }
  },
  {
   "cell_type": "code",
   "execution_count": 67,
   "outputs": [],
   "source": [
    "def simulate():\n",
    "    state,clock = initialize()\n",
    "    while not over(state):\n",
    "        next_repair,next_failure = event(clock,state)\n",
    "        state,clock = routine(state,next_repair,next_failure)\n",
    "    return clock"
   ],
   "metadata": {
    "collapsed": false
   }
  },
  {
   "cell_type": "code",
   "execution_count": 74,
   "outputs": [],
   "source": [
    "if __name__ == '__main__':\n",
    "    np.random.seed(1)\n",
    "    result = list()\n",
    "    for i in range(1000):\n",
    "        result.append(simulate())\n",
    "    result = np.array(result)"
   ],
   "metadata": {
    "collapsed": false
   }
  },
  {
   "cell_type": "code",
   "execution_count": 85,
   "outputs": [
    {
     "data": {
      "text/plain": "(array([452., 257., 162.,  65.,  33.,  16.,   5.,   5.,   4.,   1.]),\n array([ 0.10659795,  7.5464696 , 14.98634126, 22.42621291, 29.86608456,\n        37.30595621, 44.74582787, 52.18569952, 59.62557117, 67.06544282,\n        74.50531448]),\n <BarContainer object of 10 artists>)"
     },
     "execution_count": 85,
     "metadata": {},
     "output_type": "execute_result"
    },
    {
     "data": {
      "text/plain": "<Figure size 640x480 with 1 Axes>",
      "image/png": "[encoded data removed]"
     },
     "metadata": {},
     "output_type": "display_data"
    }
   ],
   "source": [
    "plt.hist(result)"
   ],
   "metadata": {
    "collapsed": false
   }
  },
  {
   "cell_type": "code",
   "execution_count": 124,
   "outputs": [
    {
     "name": "stdout",
     "output_type": "stream",
     "text": [
      "均值 11.826628599297651 置信区间 11.170067366543083 ~ 12.483189832052219\n"
     ]
    }
   ],
   "source": [
    "mean = np.mean(result)\n",
    "std = np.std(result)\n",
    "print('均值',mean,'置信区间',mean-1.96*std/(1000**0.5),'~',mean+1.96*std/(1000**0.5))"
   ],
   "metadata": {
    "collapsed": false
   }
  },
  {
   "cell_type": "code",
   "execution_count": 125,
   "outputs": [
    {
     "name": "stdout",
     "output_type": "stream",
     "text": [
      "均值 0.292 置信区间 0.2791863699666896 ~ 0.30481363003331036\n"
     ]
    }
   ],
   "source": [
    "p = sum(result<5)/1000\n",
    "std = p*(1-p)\n",
    "print('均值',p,'置信区间',p-1.96*std/(1000**0.5),'~',p+1.96*std/(1000**0.5))"
   ],
   "metadata": {
    "collapsed": false
   }
  },
  {
   "cell_type": "markdown",
   "source": [
    "累计分布函数为\n",
    "$x < 0$ : $F(x) = 1/2 * e^{2x}$\n",
    "$x>=0 $ : $F(x) = 1 - 1/2 * e^{-2x}$\n",
    "\n",
    "反函数为\n",
    "$u < 1/2$ : $F^{-1}(u) = 1/2 * log(2u)$\n",
    "$u >= 1/2$ : $F^{-1}(u) = -1/2 * log(2(1-u))$"
   ],
   "metadata": {
    "collapsed": false
   }
  },
  {
   "cell_type": "code",
   "execution_count": 126,
   "outputs": [],
   "source": [
    "def inverse_cdf(u):\n",
    "    if u<1/2:\n",
    "        x = 1/2 * np.log(2*u)\n",
    "    else:\n",
    "        x = -1/2 * np.log(2*(1-u))\n",
    "    return x\n"
   ],
   "metadata": {
    "collapsed": false
   }
  },
  {
   "cell_type": "code",
   "execution_count": 127,
   "outputs": [],
   "source": [
    "np.random.seed(1)\n",
    "u = np.random.uniform(size=1000)\n",
    "x = list()\n",
    "for i in u:\n",
    "    x.append(inverse_cdf(i))"
   ],
   "metadata": {
    "collapsed": false
   }
  },
  {
   "cell_type": "code",
   "execution_count": 128,
   "outputs": [
    {
     "data": {
      "text/plain": "(array([  1.,   1.,   4.,  15.,  39., 133., 430., 267.,  76.,  28.,   6.]),\n array([-4.19144123, -3.57268041, -2.9539196 , -2.33515878, -1.71639797,\n        -1.09763715, -0.47887634,  0.13988448,  0.75864529,  1.37740611,\n         1.99616692,  2.61492774]),\n <BarContainer object of 11 artists>)"
     },
     "execution_count": 128,
     "metadata": {},
     "output_type": "execute_result"
    },
    {
     "data": {
      "text/plain": "<Figure size 640x480 with 1 Axes>",
      "image/png": "[encoded data removed]"
     },
     "metadata": {},
     "output_type": "display_data"
    }
   ],
   "source": [
    "plt.hist(x,11)"
   ],
   "metadata": {
    "collapsed": false
   }
  },
  {
   "cell_type": "code",
   "execution_count": null,
   "outputs": [],
   "source": [],
   "metadata": {
    "collapsed": false
   }
  }
 ],
 "metadata": {
  "kernelspec": {
   "display_name": "Python 3",
   "language": "python",
   "name": "python3"
  },
  "language_info": {
   "codemirror_mode": {
    "name": "ipython",
    "version": 2
   },
   "file_extension": ".py",
   "mimetype": "text/x-python",
   "name": "python",
   "nbconvert_exporter": "python",
   "pygments_lexer": "ipython2",
   "version": "2.7.6"
  }
 },
 "nbformat": 4,
 "nbformat_minor": 0
}
